{
 "cells": [
  {
   "cell_type": "code",
   "execution_count": 1,
   "metadata": {},
   "outputs": [],
   "source": [
    "from latools import *\n",
    "\n",
    "import pandas as pd\n",
    "\n",
    "    # if 'meta_regex' in dataformat.keys():\n",
    "    #     meta = Bunch()\n",
    "    #     for k, v in dataformat['meta_regex'].items():\n",
    "    #         out = re.search(v[-1], lines[int(k)]).groups()\n",
    "    #         for i in np.arange(len(v[0])):\n",
    "    #             meta[v[0][i]] = out[i]\n",
    "\n",
    "    # # sample name\n",
    "    # if name_mode == 'file_names':\n",
    "    #     sample = os.path.basename(data_file).split('.')[0]\n",
    "    # elif name_mode == 'metadata_names':\n",
    "    #     sample = meta['name']\n",
    "    # else:\n",
    "    #     sample = name_mode\n",
    "\n",
    "    # # column and analyte names\n",
    "    # columns = np.array(lines[dataformat['column_id']['name_row']].strip().split(\n",
    "    #     dataformat['column_id']['delimiter']))\n",
    "    # if 'pattern' in dataformat['column_id'].keys():\n",
    "    #     pr = re.compile(dataformat['column_id']['pattern'])\n",
    "    #     analytes = [pr.match(c).groups()[0] for c in columns if pr.match(c)]\n",
    "\n",
    "    # # do any required pre-formatting\n",
    "    # if 'preformat_replace' in dataformat.keys():\n",
    "    #     with open(data_file) as f:\n",
    "    #         fbuffer = f.read()\n",
    "    #     for k, v in dataformat['preformat_replace'].items():\n",
    "    #         fbuffer = re.sub(k, v, fbuffer)\n",
    "    #     # dead data\n",
    "    #     read_data = np.genfromtxt(BytesIO(fbuffer.encode()),\n",
    "    #                               **dataformat['genfromtext_args']).T\n",
    "    # else:\n",
    "    #     # read data\n",
    "    #     read_data = np.genfromtxt(data_file,\n",
    "    #                               **dataformat['genfromtext_args']).T\n",
    "\n",
    "    # # data dict\n",
    "    # dind = np.ones(read_data.shape[0], dtype=bool)\n",
    "    # dind[dataformat['column_id']['timecolumn']] = False\n",
    "\n",
    "    # data = Bunch()\n",
    "    # data['Time'] = read_data[dataformat['column_id']['timecolumn']]\n",
    "\n",
    "    # # convert raw data into counts\n",
    "    # # TODO: Is this correct? Should actually be per-analyte dwell?\n",
    "    # if 'unit' in dataformat:\n",
    "    #     if dataformat['unit'] == 'cps':\n",
    "    #         tstep = data['Time'][1] - data['Time'][0]\n",
    "    #         read_data[dind] *= tstep\n",
    "    #     else:\n",
    "    #         pass\n",
    "    # data['rawdata'] = Bunch(zip(analytes, read_data[dind]))\n",
    "    # data['total_counts'] = read_data[dind].sum(0)\n",
    "\n",
    "    # return sample, analytes, data, meta\n",
    "from sklearn import cluster as cl\n",
    "\n",
    "%matplotlib inline"
   ]
  },
  {
   "cell_type": "markdown",
   "metadata": {},
   "source": [
    "# TODO:\n",
    "https://github.com/oscarbranson/latools/issues\n",
    "\n",
    "1. Drift Correction - Warn if variation between SRMs for a particular element is greater than STD?\n",
    "2. Despiking: repeat until no changes are made?\n",
    "3. Make SRM ID smarter, so it doesn't need to know where the SRMs are?\n",
    "\n",
    "*Less Important*\n",
    "1. Incorporate laser log file"
   ]
  },
  {
   "cell_type": "code",
   "execution_count": 2,
   "metadata": {},
   "outputs": [
    {
     "name": "stderr",
     "output_type": "stream",
     "text": [
      "Despiking: 100%|██████████| 5/5 [00:00<00:00, 1206.86it/s]\n",
      "AutoRange:  20%|██        | 1/5 [00:00<00:00,  8.06it/s]"
     ]
    },
    {
     "name": "stdout",
     "output_type": "stream",
     "text": [
      "Starting analysis using \"UCD-AGILENT\" configuration:\n",
      "  5 Data Files Loaded: 2 standards, 3 samples\n",
      "  Analytes: Mg24 Mg25 Al27 Ca43 Ca44 Mn55 Sr88 Ba137 Ba138\n",
      "  Internal Standard: Ca43\n"
     ]
    },
    {
     "name": "stderr",
     "output_type": "stream",
     "text": [
      "AutoRange: 100%|██████████| 5/5 [00:00<00:00, 12.44it/s]\n",
      "Background Subtraction: 100%|██████████| 5/5 [00:00<00:00,  8.38it/s]\n",
      "Ratio Calculation: 100%|██████████| 5/5 [00:00<00:00, 31.89it/s]\n",
      "Applying Calibrations: 100%|██████████| 5/5 [00:00<00:00, 11.82it/s]\n"
     ]
    }
   ],
   "source": [
    "dat = analyse('latools/resources/test_data')\n",
    "\n",
    "dat.despike()\n",
    "dat.autorange()\n",
    "dat.bkg_calc_weightedmean(n_min=10)\n",
    "dat.bkg_subtract()\n",
    "dat.ratio(internal_standard='Ca43')\n",
    "dat.calibrate()"
   ]
  },
  {
   "cell_type": "code",
   "execution_count": 4,
   "metadata": {},
   "outputs": [],
   "source": [
    "dat.minimal_export()"
   ]
  },
  {
   "cell_type": "code",
   "execution_count": 3,
   "metadata": {},
   "outputs": [
    {
     "data": {
      "text/plain": [
       "[\"__init__ :: args=() kwargs={'srm_file': None, 'time_format': None, 'srm_identifier': 'STD', 'dataformat': None, 'config': 'DEFAULT', 'data_folder': 'latools/resources/test_data', 'names': 'file_names', 'internal_standard': 'Ca43', 'extension': '.csv', 'errorhunt': False, 'cmap': None}\",\n",
       " 'despike :: args=() kwargs={}',\n",
       " 'autorange :: args=() kwargs={}',\n",
       " \"bkg_calc_weightedmean :: args=() kwargs={'n_min': 10}\",\n",
       " 'bkg_subtract :: args=() kwargs={}',\n",
       " \"ratio :: args=() kwargs={'internal_standard': 'Ca43'}\",\n",
       " 'calibrate :: args=() kwargs={}']"
      ]
     },
     "execution_count": 3,
     "metadata": {},
     "output_type": "execute_result"
    }
   ],
   "source": [
    "dat.log"
   ]
  },
  {
   "cell_type": "code",
   "execution_count": null,
   "metadata": {
    "collapsed": true
   },
   "outputs": [],
   "source": []
  },
  {
   "cell_type": "markdown",
   "metadata": {},
   "source": [
    "## Improve SRM Identification"
   ]
  },
  {
   "cell_type": "code",
   "execution_count": 5,
   "metadata": {
    "collapsed": true
   },
   "outputs": [],
   "source": [
    "self = dat"
   ]
  },
  {
   "cell_type": "code",
   "execution_count": 141,
   "metadata": {
    "collapsed": true
   },
   "outputs": [],
   "source": [
    "# def srm_id_auto(self, srms_used=['NIST610', 'NIST612', 'NIST614']):\n",
    "\n",
    "srms_used=['NIST610', 'NIST612', 'NIST614']\n",
    "\n",
    "# compile mean and standard errors of samples\n",
    "for s in self.data:\n",
    "    stdtab = pd.DataFrame(columns=pd.MultiIndex.from_product([s.analytes, ['err','mean']]))\n",
    "    stdtab.index.name = 'uTime'\n",
    "\n",
    "    for n in range(1,s.n+1):\n",
    "        ind = s.ns == n\n",
    "        for a in s.analytes:\n",
    "            aind = ind & ~np.isnan(nominal_values(s.focus[a]))\n",
    "            stdtab.loc[np.nanmean(s.uTime[s.ns == n]),\n",
    "                   (a, 'mean')] = np.nanmean(s.focus[a][aind])\n",
    "            stdtab.loc[np.nanmean(s.uTime[s.ns == n]),\n",
    "                       (a, 'err')] = np.nanmean(s.focus[a][aind]) / np.sqrt(sum(aind))\n",
    "\n",
    "    # sort column multiindex\n",
    "    stdtab = stdtab.loc[:,stdtab.columns.sort_values()]\n",
    "    # sort row index\n",
    "    stdtab.sort_index(inplace=True)\n",
    "\n",
    "    # create 'SRM' column for naming SRM\n",
    "    stdtab.loc[:,'SRM'] = ''\n",
    "    stdtab.loc[:,'STD'] = s.sample\n",
    "\n",
    "    s.stdtab = stdtab\n",
    "\n",
    "stdtab = pd.concat([s.stdtab for s in self.data]).apply(pd.to_numeric, 1, errors='ignore')\n",
    "\n",
    "# load SRM info\n",
    "srmdat = pd.read_csv(self.srmfile)\n",
    "srmdat.set_index('SRM', inplace=True)\n",
    "srmdat = srmdat.loc[srms_used]\n",
    "\n",
    "# isolate measured elements\n",
    "elements = np.unique([re.findall('[A-Za-z]+', a)[0] for a in self.analytes])\n",
    "srmdat = srmdat.loc[srmdat.Item.apply(lambda x: any([a in x for a in elements]))]\n",
    "# label elements\n",
    "srmdat.loc[:,'element'] = np.nan\n",
    "for e in elements:\n",
    "    srmdat.loc[srmdat.Item.str.contains(e),'element'] = e\n",
    "\n",
    "# convert to table in same format as stdtab\n",
    "srm_tab = srmdat.loc[:,['Value','element']].reset_index().pivot(index='SRM', columns='element', values='Value')\n",
    "\n",
    "# Auto-ID STDs\n",
    "# 1. identify elements in measured SRMS with biggest range of values\n",
    "meas_tab = stdtab.loc[:,(slice(None),'mean')]  # isolate means of standards\n",
    "meas_tab.columns = meas_tab.columns.droplevel(1)  # drop 'mean' column names\n",
    "meas_tab.columns = [re.findall('[A-Za-z]+', a)[0] for a in meas_tab.columns]  # rename to element names\n",
    "meas_tab = meas_tab.T.groupby(level=0).first().T  # remove duplicate columns\n",
    "\n",
    "ranges = nominal_values(meas_tab.apply(lambda a: np.ptp(a) / np.nanmean(a), 0))  # calculate relative ranges of all elements\n",
    "# (used as weights later)\n",
    "\n",
    "# 2. Work out which standard is which\n",
    "# normalise all elements between 0-1\n",
    "def normalise(a):\n",
    "    a = nominal_values(a)\n",
    "    a[a==1] = np.nan\n",
    "    if np.nanmin(a) < np.nanmax(a):\n",
    "        return (a - np.nanmin(a)) / np.nanmax(a - np.nanmin(a))\n",
    "#         return a / np.nansum(a)\n",
    "    else:\n",
    "        return np.ones(a.shape)\n",
    "\n",
    "nmeas = meas_tab.apply(normalise, 1)\n",
    "nmeas.replace(np.nan,1, inplace=True)\n",
    "nsrm_tab = srm_tab.apply(normalise, 1)\n",
    "nsrm_tab.replace(np.nan,1, inplace=True)\n",
    "\n",
    "matches = pd.DataFrame(columns=srms_used, index=nmeas.index)\n",
    "\n",
    "for uT, r in nmeas.iterrows():  # for each standard...\n",
    "    idx = abs((nsrm_tab - r) * ranges).sum(1)\n",
    "    matches.loc[uT] = idx\n",
    "#     # calculate the absolute difference between the normalised elemental\n",
    "#     # values for each measured SRM and the SRM table. Each element is\n",
    "#     # multiplied by the relative range seen in that element (i.e. range / mean\n",
    "#     # measured value), so that elements with a large difference are given\n",
    "#     # more importance in identifying the SRM.\n",
    "#     # This produces a table, where each row contains the difference between\n",
    "#     # a known vs. measured SRM. The measured SRM is identified as the SRM that\n",
    "#     # has the smallest weighted sum value.\n",
    "#     stdtab.loc[uT, 'SRM'] = srm_tab.index[idx == min(idx)].values[0]\n",
    "# stdtab = stdtab.reset_index().set_index(['STD','SRM','uTime'])\n",
    "\n",
    "\n",
    "# # combine to make SRM reference tables\n",
    "# srmtabs = {}\n",
    "# for a in self.analytes:\n",
    "#     el = re.findall('[A-Za-z]+',a)[0]\n",
    "\n",
    "#     sub = stdtab.loc[:,a]\n",
    "\n",
    "#     srmsub = srmdat.loc[srmdat.element==el, ['Value','Uncertainty']]\n",
    "\n",
    "#     srmtab = sub.join(srmsub)\n",
    "#     srmtab.columns = ['meas_err', 'meas_mean', 'srm_mean', 'srm_err']\n",
    "\n",
    "#     srmtabs[a] = srmtab\n",
    "\n",
    "# self.srmtabs = pd.concat(srmtabs).apply(nominal_values)\n",
    "#     return"
   ]
  },
  {
   "cell_type": "code",
   "execution_count": 142,
   "metadata": {},
   "outputs": [
    {
     "data": {
      "text/html": [
       "<div>\n",
       "<table border=\"1\" class=\"dataframe\">\n",
       "  <thead>\n",
       "    <tr style=\"text-align: right;\">\n",
       "      <th></th>\n",
       "      <th>NIST610</th>\n",
       "      <th>NIST612</th>\n",
       "      <th>NIST614</th>\n",
       "    </tr>\n",
       "    <tr>\n",
       "      <th>uTime</th>\n",
       "      <th></th>\n",
       "      <th></th>\n",
       "      <th></th>\n",
       "    </tr>\n",
       "  </thead>\n",
       "  <tbody>\n",
       "    <tr>\n",
       "      <th>358.992770</th>\n",
       "      <td>6.62538</td>\n",
       "      <td>6.57121</td>\n",
       "      <td>6.58359</td>\n",
       "    </tr>\n",
       "    <tr>\n",
       "      <th>430.755820</th>\n",
       "      <td>6.58627</td>\n",
       "      <td>6.58259</td>\n",
       "      <td>6.60996</td>\n",
       "    </tr>\n",
       "    <tr>\n",
       "      <th>475.741684</th>\n",
       "      <td>5.93376</td>\n",
       "      <td>5.88435</td>\n",
       "      <td>5.91173</td>\n",
       "    </tr>\n",
       "    <tr>\n",
       "      <th>524.297882</th>\n",
       "      <td>7.00552</td>\n",
       "      <td>6.96478</td>\n",
       "      <td>6.99216</td>\n",
       "    </tr>\n",
       "    <tr>\n",
       "      <th>612.070306</th>\n",
       "      <td>7.28992</td>\n",
       "      <td>7.31203</td>\n",
       "      <td>7.3394</td>\n",
       "    </tr>\n",
       "    <tr>\n",
       "      <th>660.269397</th>\n",
       "      <td>7.12949</td>\n",
       "      <td>7.12863</td>\n",
       "      <td>7.156</td>\n",
       "    </tr>\n",
       "    <tr>\n",
       "      <th>704.719750</th>\n",
       "      <td>6.24845</td>\n",
       "      <td>6.32324</td>\n",
       "      <td>6.35062</td>\n",
       "    </tr>\n",
       "    <tr>\n",
       "      <th>744.885610</th>\n",
       "      <td>6.96652</td>\n",
       "      <td>7.14097</td>\n",
       "      <td>7.16835</td>\n",
       "    </tr>\n",
       "    <tr>\n",
       "      <th>783.266386</th>\n",
       "      <td>6.62519</td>\n",
       "      <td>6.72315</td>\n",
       "      <td>6.75052</td>\n",
       "    </tr>\n",
       "    <tr>\n",
       "      <th>893.532935</th>\n",
       "      <td>6.89326</td>\n",
       "      <td>6.83909</td>\n",
       "      <td>6.83924</td>\n",
       "    </tr>\n",
       "    <tr>\n",
       "      <th>963.332340</th>\n",
       "      <td>6.83859</td>\n",
       "      <td>6.78442</td>\n",
       "      <td>6.78334</td>\n",
       "    </tr>\n",
       "    <tr>\n",
       "      <th>1037.416170</th>\n",
       "      <td>6.92598</td>\n",
       "      <td>6.87181</td>\n",
       "      <td>6.87628</td>\n",
       "    </tr>\n",
       "    <tr>\n",
       "      <th>54.457582</th>\n",
       "      <td>0.968946</td>\n",
       "      <td>1.12466</td>\n",
       "      <td>1.15204</td>\n",
       "    </tr>\n",
       "    <tr>\n",
       "      <th>131.576174</th>\n",
       "      <td>0.29667</td>\n",
       "      <td>0.10997</td>\n",
       "      <td>0.12011</td>\n",
       "    </tr>\n",
       "    <tr>\n",
       "      <th>200.661536</th>\n",
       "      <td>0.328786</td>\n",
       "      <td>0.0629812</td>\n",
       "      <td>0.0407595</td>\n",
       "    </tr>\n",
       "    <tr>\n",
       "      <th>1205.457582</th>\n",
       "      <td>0.969164</td>\n",
       "      <td>1.12487</td>\n",
       "      <td>1.15224</td>\n",
       "    </tr>\n",
       "    <tr>\n",
       "      <th>1282.576174</th>\n",
       "      <td>0.29658</td>\n",
       "      <td>0.11015</td>\n",
       "      <td>0.12029</td>\n",
       "    </tr>\n",
       "    <tr>\n",
       "      <th>1351.661536</th>\n",
       "      <td>0.328801</td>\n",
       "      <td>0.0629957</td>\n",
       "      <td>0.0408794</td>\n",
       "    </tr>\n",
       "  </tbody>\n",
       "</table>\n",
       "</div>"
      ],
      "text/plain": [
       "              NIST610    NIST612    NIST614\n",
       "uTime                                      \n",
       "358.992770    6.62538    6.57121    6.58359\n",
       "430.755820    6.58627    6.58259    6.60996\n",
       "475.741684    5.93376    5.88435    5.91173\n",
       "524.297882    7.00552    6.96478    6.99216\n",
       "612.070306    7.28992    7.31203     7.3394\n",
       "660.269397    7.12949    7.12863      7.156\n",
       "704.719750    6.24845    6.32324    6.35062\n",
       "744.885610    6.96652    7.14097    7.16835\n",
       "783.266386    6.62519    6.72315    6.75052\n",
       "893.532935    6.89326    6.83909    6.83924\n",
       "963.332340    6.83859    6.78442    6.78334\n",
       "1037.416170   6.92598    6.87181    6.87628\n",
       "54.457582    0.968946    1.12466    1.15204\n",
       "131.576174    0.29667    0.10997    0.12011\n",
       "200.661536   0.328786  0.0629812  0.0407595\n",
       "1205.457582  0.969164    1.12487    1.15224\n",
       "1282.576174   0.29658    0.11015    0.12029\n",
       "1351.661536  0.328801  0.0629957  0.0408794"
      ]
     },
     "execution_count": 142,
     "metadata": {},
     "output_type": "execute_result"
    }
   ],
   "source": [
    "matches"
   ]
  },
  {
   "cell_type": "code",
   "execution_count": 125,
   "metadata": {
    "collapsed": true
   },
   "outputs": [],
   "source": [
    "i = 744\n",
    "a = nmeas.loc[abs(nmeas.index - i) == min(abs(nmeas.index - i))]\n",
    "uT, r = list(a.iterrows())[0]"
   ]
  },
  {
   "cell_type": "code",
   "execution_count": 126,
   "metadata": {},
   "outputs": [
    {
     "data": {
      "text/plain": [
       "SRM\n",
       "NIST610    6.966515\n",
       "NIST612    7.140972\n",
       "NIST614    7.168348\n",
       "dtype: float64"
      ]
     },
     "execution_count": 126,
     "metadata": {},
     "output_type": "execute_result"
    }
   ],
   "source": [
    "abs((nsrm_tab - r) * ranges).sum(1)"
   ]
  },
  {
   "cell_type": "code",
   "execution_count": 87,
   "metadata": {},
   "outputs": [
    {
     "data": {
      "text/plain": [
       "NIST610             NaN\n",
       "NIST612             NaN\n",
       "NIST614             NaN\n",
       "1282.576173611111   NaN\n",
       "dtype: float64"
      ]
     },
     "execution_count": 87,
     "metadata": {},
     "output_type": "execute_result"
    }
   ],
   "source": [
    "idx"
   ]
  },
  {
   "cell_type": "code",
   "execution_count": 40,
   "metadata": {},
   "outputs": [
    {
     "data": {
      "text/html": [
       "<div>\n",
       "<table border=\"1\" class=\"dataframe\">\n",
       "  <thead>\n",
       "    <tr style=\"text-align: right;\">\n",
       "      <th>element</th>\n",
       "      <th>Al</th>\n",
       "      <th>Ba</th>\n",
       "      <th>Ca</th>\n",
       "      <th>Mg</th>\n",
       "      <th>Mn</th>\n",
       "      <th>Sr</th>\n",
       "    </tr>\n",
       "    <tr>\n",
       "      <th>SRM</th>\n",
       "      <th></th>\n",
       "      <th></th>\n",
       "      <th></th>\n",
       "      <th></th>\n",
       "      <th></th>\n",
       "      <th></th>\n",
       "    </tr>\n",
       "  </thead>\n",
       "  <tbody>\n",
       "    <tr>\n",
       "      <th>NIST610</th>\n",
       "      <td>0.092608</td>\n",
       "      <td>0.0</td>\n",
       "      <td>1.0</td>\n",
       "      <td>0.007763</td>\n",
       "      <td>0.002360</td>\n",
       "      <td>0.001277</td>\n",
       "    </tr>\n",
       "    <tr>\n",
       "      <th>NIST612</th>\n",
       "      <td>0.093699</td>\n",
       "      <td>0.0</td>\n",
       "      <td>1.0</td>\n",
       "      <td>0.001184</td>\n",
       "      <td>0.000197</td>\n",
       "      <td>0.000287</td>\n",
       "    </tr>\n",
       "    <tr>\n",
       "      <th>NIST614</th>\n",
       "      <td>0.094274</td>\n",
       "      <td>0.0</td>\n",
       "      <td>1.0</td>\n",
       "      <td>0.000644</td>\n",
       "      <td>0.000001</td>\n",
       "      <td>0.000235</td>\n",
       "    </tr>\n",
       "  </tbody>\n",
       "</table>\n",
       "</div>"
      ],
      "text/plain": [
       "element        Al   Ba   Ca        Mg        Mn        Sr\n",
       "SRM                                                      \n",
       "NIST610  0.092608  0.0  1.0  0.007763  0.002360  0.001277\n",
       "NIST612  0.093699  0.0  1.0  0.001184  0.000197  0.000287\n",
       "NIST614  0.094274  0.0  1.0  0.000644  0.000001  0.000235"
      ]
     },
     "execution_count": 40,
     "metadata": {},
     "output_type": "execute_result"
    }
   ],
   "source": [
    "nsrm_tab"
   ]
  },
  {
   "cell_type": "code",
   "execution_count": 41,
   "metadata": {},
   "outputs": [
    {
     "data": {
      "text/html": [
       "<div>\n",
       "<table border=\"1\" class=\"dataframe\">\n",
       "  <thead>\n",
       "    <tr style=\"text-align: right;\">\n",
       "      <th></th>\n",
       "      <th>Al</th>\n",
       "      <th>Ba</th>\n",
       "      <th>Ca</th>\n",
       "      <th>Mg</th>\n",
       "      <th>Mn</th>\n",
       "      <th>Sr</th>\n",
       "    </tr>\n",
       "    <tr>\n",
       "      <th>uTime</th>\n",
       "      <th></th>\n",
       "      <th></th>\n",
       "      <th></th>\n",
       "      <th></th>\n",
       "      <th></th>\n",
       "      <th></th>\n",
       "    </tr>\n",
       "  </thead>\n",
       "  <tbody>\n",
       "    <tr>\n",
       "      <th>358.992770</th>\n",
       "      <td>0.011644</td>\n",
       "      <td>0.0</td>\n",
       "      <td>0.635373</td>\n",
       "      <td>1.000000</td>\n",
       "      <td>0.001187</td>\n",
       "      <td>0.731220</td>\n",
       "    </tr>\n",
       "    <tr>\n",
       "      <th>430.755820</th>\n",
       "      <td>0.009464</td>\n",
       "      <td>0.0</td>\n",
       "      <td>0.578547</td>\n",
       "      <td>1.000000</td>\n",
       "      <td>0.005189</td>\n",
       "      <td>0.726794</td>\n",
       "    </tr>\n",
       "    <tr>\n",
       "      <th>475.741684</th>\n",
       "      <td>0.014727</td>\n",
       "      <td>0.0</td>\n",
       "      <td>0.585887</td>\n",
       "      <td>1.000000</td>\n",
       "      <td>0.002394</td>\n",
       "      <td>0.500850</td>\n",
       "    </tr>\n",
       "    <tr>\n",
       "      <th>524.297882</th>\n",
       "      <td>0.009564</td>\n",
       "      <td>0.0</td>\n",
       "      <td>0.525098</td>\n",
       "      <td>0.733227</td>\n",
       "      <td>0.002924</td>\n",
       "      <td>1.000000</td>\n",
       "    </tr>\n",
       "    <tr>\n",
       "      <th>612.070306</th>\n",
       "      <td>0.019911</td>\n",
       "      <td>0.0</td>\n",
       "      <td>0.636565</td>\n",
       "      <td>0.966650</td>\n",
       "      <td>0.006765</td>\n",
       "      <td>1.000000</td>\n",
       "    </tr>\n",
       "    <tr>\n",
       "      <th>660.269397</th>\n",
       "      <td>0.016953</td>\n",
       "      <td>0.0</td>\n",
       "      <td>0.582353</td>\n",
       "      <td>0.844997</td>\n",
       "      <td>0.005362</td>\n",
       "      <td>1.000000</td>\n",
       "    </tr>\n",
       "    <tr>\n",
       "      <th>704.719750</th>\n",
       "      <td>0.015370</td>\n",
       "      <td>0.0</td>\n",
       "      <td>0.743097</td>\n",
       "      <td>1.000000</td>\n",
       "      <td>0.009985</td>\n",
       "      <td>0.630590</td>\n",
       "    </tr>\n",
       "    <tr>\n",
       "      <th>744.885610</th>\n",
       "      <td>0.019681</td>\n",
       "      <td>0.0</td>\n",
       "      <td>0.940868</td>\n",
       "      <td>1.000000</td>\n",
       "      <td>0.016076</td>\n",
       "      <td>0.898089</td>\n",
       "    </tr>\n",
       "    <tr>\n",
       "      <th>783.266386</th>\n",
       "      <td>0.056886</td>\n",
       "      <td>0.0</td>\n",
       "      <td>0.549327</td>\n",
       "      <td>0.619683</td>\n",
       "      <td>0.011401</td>\n",
       "      <td>1.000000</td>\n",
       "    </tr>\n",
       "    <tr>\n",
       "      <th>893.532935</th>\n",
       "      <td>0.009859</td>\n",
       "      <td>0.0</td>\n",
       "      <td>0.539454</td>\n",
       "      <td>0.644612</td>\n",
       "      <td>0.000440</td>\n",
       "      <td>1.000000</td>\n",
       "    </tr>\n",
       "    <tr>\n",
       "      <th>963.332340</th>\n",
       "      <td>0.008068</td>\n",
       "      <td>0.0</td>\n",
       "      <td>0.561326</td>\n",
       "      <td>0.603793</td>\n",
       "      <td>0.000365</td>\n",
       "      <td>1.000000</td>\n",
       "    </tr>\n",
       "    <tr>\n",
       "      <th>1037.416170</th>\n",
       "      <td>0.009877</td>\n",
       "      <td>0.0</td>\n",
       "      <td>0.652025</td>\n",
       "      <td>0.668113</td>\n",
       "      <td>0.000704</td>\n",
       "      <td>1.000000</td>\n",
       "    </tr>\n",
       "    <tr>\n",
       "      <th>54.457582</th>\n",
       "      <td>1.000000</td>\n",
       "      <td>0.0</td>\n",
       "      <td>0.010460</td>\n",
       "      <td>0.025723</td>\n",
       "      <td>0.085419</td>\n",
       "      <td>0.148163</td>\n",
       "    </tr>\n",
       "    <tr>\n",
       "      <th>131.576174</th>\n",
       "      <td>1.000000</td>\n",
       "      <td>0.0</td>\n",
       "      <td>0.028858</td>\n",
       "      <td>0.004101</td>\n",
       "      <td>0.006938</td>\n",
       "      <td>0.022840</td>\n",
       "    </tr>\n",
       "    <tr>\n",
       "      <th>200.661536</th>\n",
       "      <td>1.000000</td>\n",
       "      <td>0.0</td>\n",
       "      <td>0.030125</td>\n",
       "      <td>0.002771</td>\n",
       "      <td>0.000126</td>\n",
       "      <td>0.014072</td>\n",
       "    </tr>\n",
       "    <tr>\n",
       "      <th>1205.457582</th>\n",
       "      <td>1.000000</td>\n",
       "      <td>0.0</td>\n",
       "      <td>0.010459</td>\n",
       "      <td>0.025720</td>\n",
       "      <td>0.085443</td>\n",
       "      <td>0.148169</td>\n",
       "    </tr>\n",
       "    <tr>\n",
       "      <th>1282.576174</th>\n",
       "      <td>1.000000</td>\n",
       "      <td>0.0</td>\n",
       "      <td>0.028855</td>\n",
       "      <td>0.004099</td>\n",
       "      <td>0.006955</td>\n",
       "      <td>0.022855</td>\n",
       "    </tr>\n",
       "    <tr>\n",
       "      <th>1351.661536</th>\n",
       "      <td>1.000000</td>\n",
       "      <td>0.0</td>\n",
       "      <td>0.030122</td>\n",
       "      <td>0.002771</td>\n",
       "      <td>0.000133</td>\n",
       "      <td>0.014095</td>\n",
       "    </tr>\n",
       "  </tbody>\n",
       "</table>\n",
       "</div>"
      ],
      "text/plain": [
       "                   Al   Ba        Ca        Mg        Mn        Sr\n",
       "uTime                                                             \n",
       "358.992770   0.011644  0.0  0.635373  1.000000  0.001187  0.731220\n",
       "430.755820   0.009464  0.0  0.578547  1.000000  0.005189  0.726794\n",
       "475.741684   0.014727  0.0  0.585887  1.000000  0.002394  0.500850\n",
       "524.297882   0.009564  0.0  0.525098  0.733227  0.002924  1.000000\n",
       "612.070306   0.019911  0.0  0.636565  0.966650  0.006765  1.000000\n",
       "660.269397   0.016953  0.0  0.582353  0.844997  0.005362  1.000000\n",
       "704.719750   0.015370  0.0  0.743097  1.000000  0.009985  0.630590\n",
       "744.885610   0.019681  0.0  0.940868  1.000000  0.016076  0.898089\n",
       "783.266386   0.056886  0.0  0.549327  0.619683  0.011401  1.000000\n",
       "893.532935   0.009859  0.0  0.539454  0.644612  0.000440  1.000000\n",
       "963.332340   0.008068  0.0  0.561326  0.603793  0.000365  1.000000\n",
       "1037.416170  0.009877  0.0  0.652025  0.668113  0.000704  1.000000\n",
       "54.457582    1.000000  0.0  0.010460  0.025723  0.085419  0.148163\n",
       "131.576174   1.000000  0.0  0.028858  0.004101  0.006938  0.022840\n",
       "200.661536   1.000000  0.0  0.030125  0.002771  0.000126  0.014072\n",
       "1205.457582  1.000000  0.0  0.010459  0.025720  0.085443  0.148169\n",
       "1282.576174  1.000000  0.0  0.028855  0.004099  0.006955  0.022855\n",
       "1351.661536  1.000000  0.0  0.030122  0.002771  0.000133  0.014095"
      ]
     },
     "execution_count": 41,
     "metadata": {},
     "output_type": "execute_result"
    }
   ],
   "source": [
    "nmeas"
   ]
  },
  {
   "cell_type": "code",
   "execution_count": null,
   "metadata": {
    "collapsed": true
   },
   "outputs": [],
   "source": []
  },
  {
   "cell_type": "code",
   "execution_count": null,
   "metadata": {
    "collapsed": true
   },
   "outputs": [],
   "source": []
  },
  {
   "cell_type": "code",
   "execution_count": null,
   "metadata": {
    "collapsed": true
   },
   "outputs": [],
   "source": []
  },
  {
   "cell_type": "code",
   "execution_count": 4,
   "metadata": {
    "collapsed": true
   },
   "outputs": [],
   "source": [
    "dat.srm_id_auto()"
   ]
  },
  {
   "cell_type": "code",
   "execution_count": 5,
   "metadata": {
    "collapsed": true
   },
   "outputs": [],
   "source": [
    "self = dat"
   ]
  },
  {
   "cell_type": "code",
   "execution_count": 6,
   "metadata": {
    "collapsed": true
   },
   "outputs": [],
   "source": [
    "from scipy import odr"
   ]
  },
  {
   "cell_type": "markdown",
   "metadata": {},
   "source": [
    "## Detection Limit Calculation"
   ]
  },
  {
   "cell_type": "code",
   "execution_count": null,
   "metadata": {
    "collapsed": true
   },
   "outputs": [],
   "source": []
  },
  {
   "cell_type": "code",
   "execution_count": null,
   "metadata": {},
   "outputs": [],
   "source": []
  },
  {
   "cell_type": "code",
   "execution_count": null,
   "metadata": {},
   "outputs": [],
   "source": []
  },
  {
   "cell_type": "code",
   "execution_count": null,
   "metadata": {},
   "outputs": [],
   "source": []
  },
  {
   "cell_type": "markdown",
   "metadata": {},
   "source": [
    "## Data Format Tester"
   ]
  },
  {
   "cell_type": "code",
   "execution_count": 35,
   "metadata": {},
   "outputs": [],
   "source": [
    "import latools as la\n",
    "import configparser\n",
    "import json\n",
    "import os, re\n",
    "import numpy as np\n",
    "import pkg_resources as pkgrs\n",
    "from latools.helpers.helpers import Bunch\n",
    "\n",
    "from shutil import copyfile"
   ]
  },
  {
   "cell_type": "code",
   "execution_count": 94,
   "metadata": {},
   "outputs": [],
   "source": [
    "config = la.config.read_configuration()\n",
    "fdataformat = './UCD_dataformat.json'"
   ]
  },
  {
   "cell_type": "code",
   "execution_count": 98,
   "metadata": {},
   "outputs": [],
   "source": [
    "with open(fdataformat) as f:\n",
    "    dataformat = json.load(f)"
   ]
  },
  {
   "cell_type": "code",
   "execution_count": 99,
   "metadata": {},
   "outputs": [
    {
     "data": {
      "text/plain": [
       "{'column_id': {'delimiter': ',',\n",
       "  'name_row': 3,\n",
       "  'pattern': '([A-z]{1,2}[0-9]{1,3})',\n",
       "  'timecolumn': 0},\n",
       " 'genfromtext_args': {'delimiter': '2,', 'skip_header': 4},\n",
       " 'meta_regex': {'0': [['path'], '(.*)'],\n",
       "  '2': [['date', 'method'],\n",
       "   '([A-Z][a-z]+ [0-9]+ [0-9]{4}[ ]+[0-9:]+ [amp]+).* ([A-z0-9]+\\\\.m)']},\n",
       " 'unit': 'cps'}"
      ]
     },
     "execution_count": 99,
     "metadata": {},
     "output_type": "execute_result"
    }
   ],
   "source": [
    "dataformat"
   ]
  },
  {
   "cell_type": "code",
   "execution_count": 11,
   "metadata": {},
   "outputs": [
    {
     "name": "stdout",
     "output_type": "stream",
     "text": [
      "Sample-1.csv  Sample-2.csv  Sample-3.csv  STD-1.csv  STD-2.csv\r\n"
     ]
    }
   ],
   "source": [
    "ls 'latools/resources/test_data/'"
   ]
  },
  {
   "cell_type": "code",
   "execution_count": 105,
   "metadata": {},
   "outputs": [
    {
     "name": "stdout",
     "output_type": "stream",
     "text": [
      "The autoreload extension is already loaded. To reload it, use:\n",
      "  %reload_ext autoreload\n"
     ]
    }
   ],
   "source": [
    "%load_ext autoreload\n",
    "%autoreload 2\n",
    "\n",
    "from latools.helpers.config import test_dataformat"
   ]
  },
  {
   "cell_type": "code",
   "execution_count": 161,
   "metadata": {
    "scrolled": false
   },
   "outputs": [
    {
     "name": "stdout",
     "output_type": "stream",
     "text": [
      "*************************************************\n",
      "Testing suitability of data format description...\n",
      "  Dataformat File: ./UCD_dataformat.json\n",
      "  Data File: latools/resources/test_data/STD-1.csv\n",
      "*************************************************\n",
      "  Test: open data file...\n",
      "    Success!\n",
      "  Test: read dataformat file...\n",
      "    Success!\n",
      "  Test: read metadata using 'metadata_regex'...\n",
      "    Line 2: date: Oct 29 2015  03:06:01 pm\n",
      "    Finished - does the above look correct?\n",
      "  Test: Sample Name IDs...\n",
      "    Sample name grabbed from file: STD-1\n",
      "        ***Is the sample name correct?***\n",
      "  Test: Getting Column Names...\n",
      "    Columns from line 3: Time [Sec], Mg24, Mg25, Al27, Ca43, Ca44, Mn55, Sr88, Ba137, Ba138\n",
      "    Cleaning up using column_id/pattern...\n",
      "    Cleaned Analyte Names: Ca43, Ca44, Ba137, Ba138\n",
      "        ***This should only contain analyte names... does it?***\n",
      "  Test: Reading Data...\n",
      "    checking dimensions...\n",
      "        ***PROBLEM: There are 10 data columns, but 5 column names.\n",
      "        Check your identification of column names, or your pre-formatting parameters\n"
     ]
    },
    {
     "ename": "ValueError",
     "evalue": "Data - Column Name mismatch",
     "output_type": "error",
     "traceback": [
      "\u001b[0;31m---------------------------------------------------------------------------\u001b[0m",
      "\u001b[0;31mValueError\u001b[0m                                Traceback (most recent call last)",
      "\u001b[0;32m<ipython-input-161-25214d0d0f01>\u001b[0m in \u001b[0;36m<module>\u001b[0;34m()\u001b[0m\n\u001b[0;32m----> 1\u001b[0;31m \u001b[0mtest_dataformat\u001b[0m\u001b[0;34m(\u001b[0m\u001b[0;34m'latools/resources/test_data/STD-1.csv'\u001b[0m\u001b[0;34m,\u001b[0m \u001b[0mfdataformat\u001b[0m\u001b[0;34m,\u001b[0m \u001b[0;34m'file_names'\u001b[0m\u001b[0;34m)\u001b[0m\u001b[0;34m\u001b[0m\u001b[0m\n\u001b[0m",
      "\u001b[0;32m~/GitHub/latools/latools/helpers/config.py\u001b[0m in \u001b[0;36mtest_dataformat\u001b[0;34m(data_file, dataformat_file, name_mode)\u001b[0m\n\u001b[1;32m    377\u001b[0m               \u001b[0;34m'There are {:.0f} data columns, but {:.0f} column names.\\n'\u001b[0m\u001b[0;34m.\u001b[0m\u001b[0mformat\u001b[0m\u001b[0;34m(\u001b[0m\u001b[0mread_data\u001b[0m\u001b[0;34m.\u001b[0m\u001b[0mshape\u001b[0m\u001b[0;34m[\u001b[0m\u001b[0;36m0\u001b[0m\u001b[0;34m]\u001b[0m\u001b[0;34m,\u001b[0m \u001b[0mlen\u001b[0m\u001b[0;34m(\u001b[0m\u001b[0manalytes\u001b[0m\u001b[0;34m)\u001b[0m \u001b[0;34m+\u001b[0m \u001b[0;36m1\u001b[0m\u001b[0;34m)\u001b[0m \u001b[0;34m+\u001b[0m\u001b[0;34m\u001b[0m\u001b[0m\n\u001b[1;32m    378\u001b[0m               '        Check your identification of column names, or your pre-formatting parameters')\n\u001b[0;32m--> 379\u001b[0;31m         \u001b[0;32mraise\u001b[0m \u001b[0mValueError\u001b[0m\u001b[0;34m(\u001b[0m\u001b[0;34m'Data - Column Name mismatch'\u001b[0m\u001b[0;34m)\u001b[0m\u001b[0;34m\u001b[0m\u001b[0m\n\u001b[0m\u001b[1;32m    380\u001b[0m     \u001b[0;32melse\u001b[0m\u001b[0;34m:\u001b[0m\u001b[0;34m\u001b[0m\u001b[0m\n\u001b[1;32m    381\u001b[0m         \u001b[0mprint\u001b[0m\u001b[0;34m(\u001b[0m\u001b[0;34m'    Success!'\u001b[0m\u001b[0;34m)\u001b[0m\u001b[0;34m\u001b[0m\u001b[0m\n",
      "\u001b[0;31mValueError\u001b[0m: Data - Column Name mismatch"
     ]
    }
   ],
   "source": [
    "test_dataformat('latools/resources/test_data/STD-1.csv', fdataformat, 'file_names')"
   ]
  },
  {
   "cell_type": "code",
   "execution_count": 91,
   "metadata": {},
   "outputs": [],
   "source": []
  },
  {
   "cell_type": "code",
   "execution_count": null,
   "metadata": {},
   "outputs": [],
   "source": []
  },
  {
   "cell_type": "code",
   "execution_count": null,
   "metadata": {},
   "outputs": [],
   "source": []
  }
 ],
 "metadata": {
  "anaconda-cloud": {},
  "kernelspec": {
   "display_name": "Python 3",
   "language": "python",
   "name": "python3"
  },
  "language_info": {
   "codemirror_mode": {
    "name": "ipython",
    "version": 3
   },
   "file_extension": ".py",
   "mimetype": "text/x-python",
   "name": "python",
   "nbconvert_exporter": "python",
   "pygments_lexer": "ipython3",
   "version": "3.6.4"
  }
 },
 "nbformat": 4,
 "nbformat_minor": 1
}
