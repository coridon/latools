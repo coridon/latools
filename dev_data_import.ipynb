{
 "cells": [
  {
   "cell_type": "code",
   "execution_count": 4,
   "metadata": {
    "collapsed": true
   },
   "outputs": [],
   "source": [
    "import re"
   ]
  },
  {
   "cell_type": "code",
   "execution_count": 6,
   "metadata": {
    "collapsed": true
   },
   "outputs": [],
   "source": [
    "csv_file = 'latools/resources/test_data/Sample-1.csv'"
   ]
  },
  {
   "cell_type": "code",
   "execution_count": 7,
   "metadata": {
    "collapsed": false
   },
   "outputs": [],
   "source": [
    "lines = open(csv_file).readlines()"
   ]
  },
  {
   "cell_type": "code",
   "execution_count": 11,
   "metadata": {
    "collapsed": false
   },
   "outputs": [],
   "source": [
    "dataformat = {}\n",
    "# genfromtext arguments\n",
    "dataformat['genfromtext_args'] = {}\n",
    "dataformat['genfromtext_args']['skip_header'] = 4\n",
    "dataformat['genfromtext_args']['skip_footer'] = 0\n",
    "dataformat['genfromtext_args']['comments'] = '     '\n",
    "dataformat['genfromtext_args']['delimiter'] = ','\n",
    "# column name identifiers\n",
    "dataformat['column_id'] = {}\n",
    "dataformat['column_id']['name_row'] = 3\n",
    "dataformat['column_id']['timekey'] = 'time'\n",
    "# regex metadata\n",
    "dataformat['regex'] = {}\n",
    "dataformat['regex'][0] = (['path'],'(.*)')\n",
    "dataformat['regex'][1] = None\n",
    "dataformat['regex'][2] = (['date', 'method'], '.*([A-Z][a-z]+ [0-9]+ [0-9]{4}[ ]+[0-9:]+) .*AcqMethod (.*)')"
   ]
  },
  {
   "cell_type": "code",
   "execution_count": 12,
   "metadata": {
    "collapsed": false
   },
   "outputs": [
    {
     "data": {
      "text/plain": [
       "{'column_id': {'name_row': 3, 'timekey': 'time'},\n",
       " 'genfromtext_args': {'comments': '     ',\n",
       "  'delimiter': ',',\n",
       "  'skip_footer': 0,\n",
       "  'skip_header': 4},\n",
       " 'regex': {0: (['path'], '(.*)'),\n",
       "  1: None,\n",
       "  2: (['date', 'method'],\n",
       "   '.*([A-Z][a-z]+ [0-9]+ [0-9]{4}[ ]+[0-9:]+) .*AcqMethod (.*)')}}"
      ]
     },
     "execution_count": 12,
     "metadata": {},
     "output_type": "execute_result"
    }
   ],
   "source": [
    "dataformat"
   ]
  },
  {
   "cell_type": "code",
   "execution_count": 89,
   "metadata": {
    "collapsed": false
   },
   "outputs": [
    {
     "data": {
      "text/plain": [
       "\"{'genfromtext_args': {'skip_footer': 0, 'delimiter': ',', 'comments': '     ', 'skip_header': 4}, 'regex': {0: (['path'], '(.*)'), 1: None, 2: (['date', 'method'], '.*([A-Z][a-z]+ [0-9]+ [0-9]{4}[ ]+[0-9:]+) .*AcqMethod (.*)')}, 'column_id': {'timekey': 'time', 'name_row': 3}}\""
      ]
     },
     "execution_count": 89,
     "metadata": {},
     "output_type": "execute_result"
    }
   ],
   "source": [
    "str(dataformat)"
   ]
  },
  {
   "cell_type": "code",
   "execution_count": null,
   "metadata": {
    "collapsed": true
   },
   "outputs": [],
   "source": []
  },
  {
   "cell_type": "code",
   "execution_count": 25,
   "metadata": {
    "collapsed": false
   },
   "outputs": [],
   "source": [
    "dataformat2 = eval(open('latools/resources/UCD_dataformat.dict').read())"
   ]
  },
  {
   "cell_type": "code",
   "execution_count": 33,
   "metadata": {
    "collapsed": false
   },
   "outputs": [
    {
     "data": {
      "text/plain": [
       "{'column_id': {'name_row': 3, 'timekey': 'time'},\n",
       " 'genfromtext_args': {'comments': '     ',\n",
       "  'delimiter': ',',\n",
       "  'skip_footer': 0,\n",
       "  'skip_header': 4},\n",
       " 'regex': {0: (['path'], '(.*)'),\n",
       "  1: None,\n",
       "  2: (['date', 'method'],\n",
       "   '.*([A-Z][a-z]+ [0-9]+ [0-9]{4}[ ]+[0-9:]+) .*AcqMethod (.*)')}}"
      ]
     },
     "execution_count": 33,
     "metadata": {},
     "output_type": "execute_result"
    }
   ],
   "source": [
    "dataformat"
   ]
  },
  {
   "cell_type": "code",
   "execution_count": 29,
   "metadata": {
    "collapsed": false
   },
   "outputs": [
    {
     "data": {
      "text/plain": [
       "{'name_row': 3, 'timekey': 'time'}"
      ]
     },
     "execution_count": 29,
     "metadata": {},
     "output_type": "execute_result"
    }
   ],
   "source": [
    "dataformat['column_id']"
   ]
  },
  {
   "cell_type": "code",
   "execution_count": 30,
   "metadata": {
    "collapsed": false
   },
   "outputs": [
    {
     "data": {
      "text/plain": [
       "{'name_row': 3, 'timekey': 'time'}"
      ]
     },
     "execution_count": 30,
     "metadata": {},
     "output_type": "execute_result"
    }
   ],
   "source": [
    "dataformat2['column_id']"
   ]
  },
  {
   "cell_type": "code",
   "execution_count": 35,
   "metadata": {
    "collapsed": false
   },
   "outputs": [],
   "source": [
    "meta = {}\n",
    "for k, v in dataformat['regex'].items():\n",
    "    if v is not None:\n",
    "        out = re.search(v[-1], lines[k]).groups()\n",
    "        for i in np.arange(len(v[0])):\n",
    "            meta[v[0][i]] = out[i]\n",
    "if dataformat['column_id'] is not None:\n",
    "    columns = np.array(lines[dataformat['column_id']['name_row']].strip().split(','))\n",
    "    timecol = np.array([dataformat['column_id']['timekey'] in c.lower() for c in columns])\n",
    "    columns[timecol] = 'Time'\n",
    "    analytes = columns[~timecol]"
   ]
  },
  {
   "cell_type": "code",
   "execution_count": 83,
   "metadata": {
    "collapsed": false
   },
   "outputs": [],
   "source": [
    "read_data = np.genfromtxt(csv_file, **dataformat['genfromtext_args']).T"
   ]
  },
  {
   "cell_type": "code",
   "execution_count": 74,
   "metadata": {
    "collapsed": false
   },
   "outputs": [],
   "source": [
    "data = dict(zip(columns, data))"
   ]
  },
  {
   "cell_type": "code",
   "execution_count": null,
   "metadata": {
    "collapsed": true
   },
   "outputs": [],
   "source": []
  },
  {
   "cell_type": "code",
   "execution_count": null,
   "metadata": {
    "collapsed": true
   },
   "outputs": [],
   "source": []
  },
  {
   "cell_type": "code",
   "execution_count": 90,
   "metadata": {
    "collapsed": true
   },
   "outputs": [],
   "source": [
    "import configparser"
   ]
  },
  {
   "cell_type": "code",
   "execution_count": 91,
   "metadata": {
    "collapsed": true
   },
   "outputs": [],
   "source": [
    "cf = configparser.ConfigParser()"
   ]
  },
  {
   "cell_type": "code",
   "execution_count": 92,
   "metadata": {
    "collapsed": false
   },
   "outputs": [
    {
     "data": {
      "text/plain": [
       "['latools/latools.cfg']"
      ]
     },
     "execution_count": 92,
     "metadata": {},
     "output_type": "execute_result"
    }
   ],
   "source": [
    "cf.read('latools/latools.cfg')"
   ]
  },
  {
   "cell_type": "code",
   "execution_count": 98,
   "metadata": {
    "collapsed": false,
    "scrolled": true
   },
   "outputs": [
    {
     "data": {
      "text/plain": [
       "{'column_id': {'name_row': 3, 'timekey': 'time'},\n",
       " 'genfromtext_args': {'comments': '     ',\n",
       "  'delimiter': ',',\n",
       "  'skip_footer': 0,\n",
       "  'skip_header': 4},\n",
       " 'regex': {0: (['path'], '(.*)'),\n",
       "  1: None,\n",
       "  2: (['date', 'method'],\n",
       "   '.*([A-Z][a-z]+ [0-9]+ [0-9]{4}[ ]+[0-9:]+) .*AcqMethod (.*)')}}"
      ]
     },
     "execution_count": 98,
     "metadata": {},
     "output_type": "execute_result"
    }
   ],
   "source": [
    "eval(dict(cf.defaults())['dataformat'])"
   ]
  }
 ],
 "metadata": {
  "kernelspec": {
   "display_name": "Python 3",
   "language": "python",
   "name": "python3"
  },
  "language_info": {
   "codemirror_mode": {
    "name": "ipython",
    "version": 3
   },
   "file_extension": ".py",
   "mimetype": "text/x-python",
   "name": "python",
   "nbconvert_exporter": "python",
   "pygments_lexer": "ipython3",
   "version": "3.5.1"
  }
 },
 "nbformat": 4,
 "nbformat_minor": 0
}
