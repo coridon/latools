{
 "cells": [
  {
   "cell_type": "code",
   "execution_count": 1,
   "metadata": {
    "collapsed": false
   },
   "outputs": [],
   "source": [
    "from latools import *"
   ]
  },
  {
   "cell_type": "code",
   "execution_count": 4,
   "metadata": {
    "collapsed": false
   },
   "outputs": [],
   "source": [
    "%matplotlib inline"
   ]
  },
  {
   "cell_type": "code",
   "execution_count": 5,
   "metadata": {
    "collapsed": false
   },
   "outputs": [
    {
     "name": "stdout",
     "output_type": "stream",
     "text": [
      "4 Analysis Files Loaded:\n",
      "1 standards, 3 samples\n",
      "Analytes: Mg24 Mg25 Al27 Ca43 Ca44 Mn55 Sr88 Ba137 Ba138\n"
     ]
    }
   ],
   "source": [
    "d = analyse('latools/resources/test_data/')"
   ]
  },
  {
   "cell_type": "code",
   "execution_count": 6,
   "metadata": {
    "collapsed": false
   },
   "outputs": [
    {
     "name": "stdout",
     "output_type": "stream",
     "text": [
      "Exponential Decay Coefficient not provided.\n",
      "Coefficient will be determined from the washout\n",
      "times of the standards (takes a while...).\n",
      "-------------------------------------\n",
      "Exponential Decay Coefficient: -2.77\n",
      "-------------------------------------\n"
     ]
    }
   ],
   "source": [
    "d.despike()"
   ]
  },
  {
   "cell_type": "code",
   "execution_count": 10,
   "metadata": {
    "collapsed": false
   },
   "outputs": [],
   "source": [
    "d.trace_plots(outdir = 'testplots', ranges=True)"
   ]
  },
  {
   "cell_type": "code",
   "execution_count": 9,
   "metadata": {
    "collapsed": false
   },
   "outputs": [],
   "source": [
    "d.autorange()"
   ]
  },
  {
   "cell_type": "code",
   "execution_count": 7,
   "metadata": {
    "collapsed": true
   },
   "outputs": [],
   "source": [
    "d.bkgcorrect()"
   ]
  },
  {
   "cell_type": "code",
   "execution_count": 8,
   "metadata": {
    "collapsed": true
   },
   "outputs": [],
   "source": [
    "d.ratio()"
   ]
  },
  {
   "cell_type": "code",
   "execution_count": 11,
   "metadata": {
    "collapsed": false
   },
   "outputs": [],
   "source": [
    "d.load_params('test.param')\n",
    "d.load_calibration()\n",
    "# d.load_srm_ids('latools/resources/test_data/params/srm.rng')"
   ]
  },
  {
   "cell_type": "code",
   "execution_count": 12,
   "metadata": {
    "collapsed": false
   },
   "outputs": [],
   "source": [
    "d.calibrate()"
   ]
  },
  {
   "cell_type": "code",
   "execution_count": null,
   "metadata": {
    "collapsed": true
   },
   "outputs": [],
   "source": []
  },
  {
   "cell_type": "code",
   "execution_count": 15,
   "metadata": {
    "collapsed": false
   },
   "outputs": [
    {
     "ename": "TypeError",
     "evalue": "tplot() got an unexpected keyword argument 'plot_filt'",
     "output_type": "error",
     "traceback": [
      "\u001b[0;31m---------------------------------------------------------------------------\u001b[0m",
      "\u001b[0;31mTypeError\u001b[0m                                 Traceback (most recent call last)",
      "\u001b[0;32m<ipython-input-15-75effbbec9a4>\u001b[0m in \u001b[0;36m<module>\u001b[0;34m()\u001b[0m\n\u001b[0;32m----> 1\u001b[0;31m \u001b[0md\u001b[0m\u001b[0;34m.\u001b[0m\u001b[0mtrace_plots\u001b[0m\u001b[0;34m(\u001b[0m\u001b[0mdirpath\u001b[0m\u001b[0;34m=\u001b[0m\u001b[0;34m'testplot'\u001b[0m\u001b[0;34m)\u001b[0m\u001b[0;34m\u001b[0m\u001b[0m\n\u001b[0m",
      "\u001b[0;32m/Users/oscarbranson/UCDrive/Projects/latools/latools/latools.py\u001b[0m in \u001b[0;36mtrace_plots\u001b[0;34m(self, analytes, dirpath, ranges, focus, plot_filt)\u001b[0m\n\u001b[1;32m   1056\u001b[0m         \u001b[0;32mfor\u001b[0m \u001b[0ms\u001b[0m \u001b[0;32min\u001b[0m \u001b[0mself\u001b[0m\u001b[0;34m.\u001b[0m\u001b[0mdata\u001b[0m\u001b[0;34m:\u001b[0m\u001b[0;34m\u001b[0m\u001b[0m\n\u001b[1;32m   1057\u001b[0m             \u001b[0mstg\u001b[0m \u001b[0;34m=\u001b[0m \u001b[0ms\u001b[0m\u001b[0;34m.\u001b[0m\u001b[0mfocus_stage\u001b[0m\u001b[0;34m\u001b[0m\u001b[0m\n\u001b[0;32m-> 1058\u001b[0;31m             \u001b[0ms\u001b[0m\u001b[0;34m.\u001b[0m\u001b[0msetfocus\u001b[0m\u001b[0;34m(\u001b[0m\u001b[0mfocus\u001b[0m\u001b[0;34m)\u001b[0m\u001b[0;34m\u001b[0m\u001b[0m\n\u001b[0m\u001b[1;32m   1059\u001b[0m             \u001b[0mfig\u001b[0m \u001b[0;34m=\u001b[0m \u001b[0ms\u001b[0m\u001b[0;34m.\u001b[0m\u001b[0mtplot\u001b[0m\u001b[0;34m(\u001b[0m\u001b[0mscale\u001b[0m\u001b[0;34m=\u001b[0m\u001b[0mscale\u001b[0m\u001b[0;34m,\u001b[0m \u001b[0mranges\u001b[0m\u001b[0;34m=\u001b[0m\u001b[0mranges\u001b[0m\u001b[0;34m,\u001b[0m \u001b[0mplot_filt\u001b[0m\u001b[0;34m=\u001b[0m\u001b[0mplot_filt\u001b[0m\u001b[0;34m)\u001b[0m\u001b[0;34m\u001b[0m\u001b[0m\n\u001b[1;32m   1060\u001b[0m             \u001b[0;31m# ax = fig.axes[0]\u001b[0m\u001b[0;34m\u001b[0m\u001b[0;34m\u001b[0m\u001b[0m\n",
      "\u001b[0;31mTypeError\u001b[0m: tplot() got an unexpected keyword argument 'plot_filt'"
     ]
    }
   ],
   "source": [
    "d.trace_plots(dirpath='testplot')"
   ]
  },
  {
   "cell_type": "code",
   "execution_count": 13,
   "metadata": {
    "collapsed": false
   },
   "outputs": [],
   "source": [
    "self = d.data_dict['A1-1']"
   ]
  },
  {
   "cell_type": "markdown",
   "metadata": {},
   "source": [
    "### Threshold Testing"
   ]
  },
  {
   "cell_type": "code",
   "execution_count": 11,
   "metadata": {
    "collapsed": false
   },
   "outputs": [],
   "source": [
    "self.filt.clear_filters()"
   ]
  },
  {
   "cell_type": "code",
   "execution_count": 12,
   "metadata": {
    "collapsed": false
   },
   "outputs": [],
   "source": [
    "self.filter_threshold('Al27', 200E-6, 'below')"
   ]
  },
  {
   "cell_type": "code",
   "execution_count": 13,
   "metadata": {
    "collapsed": false
   },
   "outputs": [],
   "source": [
    "x,y,lim = self.filter_distribution('Al27',0.2, output=True, filt=True)"
   ]
  },
  {
   "cell_type": "code",
   "execution_count": 14,
   "metadata": {
    "collapsed": true
   },
   "outputs": [],
   "source": [
    "self.filt.off()\n",
    "self.filt.on(filt=['Al27_thresh'])"
   ]
  },
  {
   "cell_type": "code",
   "execution_count": 15,
   "metadata": {
    "collapsed": true
   },
   "outputs": [],
   "source": [
    "self.filter_clustering('Al27', filt=True)"
   ]
  },
  {
   "cell_type": "code",
   "execution_count": 16,
   "metadata": {
    "collapsed": false
   },
   "outputs": [],
   "source": [
    "self.filt.off(filt='meanshift')"
   ]
  },
  {
   "cell_type": "code",
   "execution_count": 17,
   "metadata": {
    "collapsed": true
   },
   "outputs": [],
   "source": [
    "self.filter_clustering('Al27', filt=True, method='kmeans', n_clusters=2)"
   ]
  },
  {
   "cell_type": "code",
   "execution_count": 19,
   "metadata": {
    "collapsed": true
   },
   "outputs": [],
   "source": [
    "self.filt.off(filt='kmeans')"
   ]
  },
  {
   "cell_type": "code",
   "execution_count": 20,
   "metadata": {
    "collapsed": false
   },
   "outputs": [],
   "source": [
    "self.filter_clustering('Al27', filt=True, method='DBSCAN', n_clusters=2)"
   ]
  },
  {
   "cell_type": "code",
   "execution_count": 22,
   "metadata": {
    "collapsed": true
   },
   "outputs": [],
   "source": [
    "self.filt.off(filt='DBSCAN')"
   ]
  },
  {
   "cell_type": "markdown",
   "metadata": {},
   "source": [
    "## Correlation Filter"
   ]
  },
  {
   "cell_type": "code",
   "execution_count": 115,
   "metadata": {
    "collapsed": true
   },
   "outputs": [],
   "source": [
    "from scipy.stats import pearsonr"
   ]
  },
  {
   "cell_type": "code",
   "execution_count": 288,
   "metadata": {
    "collapsed": false
   },
   "outputs": [],
   "source": [
    "def filter_correlation(self, x_analyte, y_analyte, window=None, r_threshold=0.9, p_threshold=0.05, filt=True):    \n",
    "    # automatically determine appripriate window\n",
    "    \n",
    "    # make window odd\n",
    "    if window % 2 != 1:\n",
    "        window += 1\n",
    "    \n",
    "    params = locals()\n",
    "    del(params['self'])\n",
    "    \n",
    "    if filt:\n",
    "        ind = self.filt.make_filt([x_analyte, y_analyte])\n",
    "    else:\n",
    "        ind = ~np.zeros(self.Time.size, dtype=bool)\n",
    "    \n",
    "    x = self.focus[x_analyte]\n",
    "    x[~ind] = np.nan\n",
    "    xr = self.rolling_window(x, window, pad=np.nan)\n",
    "\n",
    "    y = self.focus[y_analyte]\n",
    "    y[~ind] = np.nan\n",
    "    yr = self.rolling_window(y, window, pad=np.nan)\n",
    "\n",
    "    r, p = zip(*map(pearsonr, xr,yr))\n",
    "    \n",
    "    r = np.array(r)\n",
    "    p = np.array(p)\n",
    "    \n",
    "    cfilt = (abs(r) > r_threshold) & (p < p_threshold)\n",
    "    cfilt = ~cfilt\n",
    "\n",
    "    name = x_analyte + '_' + y_analyte + '_corr'\n",
    "    \n",
    "    self.filt.add_filt(name=name,\n",
    "                       filt=cfilt,\n",
    "                       info=x_analyte + ' vs. ' + y_analyte + ' correlation filter.',\n",
    "                       params=params)\n",
    "    self.filt.off(filt=name)\n",
    "    self.filt.on(analyte=y_analyte, filt=name)\n",
    "    \n",
    "    return r, p\n",
    "    \n",
    "    "
   ]
  },
  {
   "cell_type": "code",
   "execution_count": 289,
   "metadata": {
    "collapsed": false
   },
   "outputs": [],
   "source": [
    "r, p = filter_correlation(self, 'Al27', 'Ba138', 30)"
   ]
  },
  {
   "cell_type": "markdown",
   "metadata": {},
   "source": [
    "## Clustering Algorithms"
   ]
  },
  {
   "cell_type": "markdown",
   "metadata": {},
   "source": [
    "### Plan\n",
    "1. Make separate functions for the different methods.\n",
    "2. Make a 'wrapper' function to call them all.\n",
    "\n",
    "##### Want clustering that is:\n",
    "1. Naive: determines number of clusters on its own.\n",
    "2. Guided: you tell it number of clusters.\n",
    "\n",
    "##### Methods:\n",
    "1. Meanshift\n",
    "2. DBSCAN\n",
    "3. Affinity Propagation\n",
    "4. Kmeans"
   ]
  },
  {
   "cell_type": "code",
   "execution_count": 230,
   "metadata": {
    "collapsed": false
   },
   "outputs": [],
   "source": [
    "import sklearn.cluster as cl\n",
    "from sklearn import metrics\n",
    "from sklearn import preprocessing\n",
    "import warnings"
   ]
  },
  {
   "cell_type": "code",
   "execution_count": 179,
   "metadata": {
    "collapsed": false
   },
   "outputs": [],
   "source": [
    "def filter_clustering(self, analytes, filt=False, normalise=True, method='meanshift', **kwargs):\n",
    "    params = locals()\n",
    "    del(params['self'])\n",
    "    \n",
    "    # convert string to list, if single analyte\n",
    "    if type(analytes) is str:\n",
    "        analytes = [analytes]\n",
    "        \n",
    "    # generate filter\n",
    "    if filt:\n",
    "        ind = self.filt.make_filt(analytes)\n",
    "    else:\n",
    "        ind = ~np.isnan(self.focus[analyte[0]])\n",
    "    \n",
    "    # get indices for data passed to clustering\n",
    "    sampled = np.arange(self.Time.size)[ind]\n",
    "    \n",
    "    # generate data for clustering\n",
    "    if len(analytes) == 1:\n",
    "        # if single analyte\n",
    "        d = self.focus[analytes[0]][ind]     \n",
    "        ds = np.array(list(zip(d,np.zeros(len(d)))))\n",
    "    else:\n",
    "        # package multiple analytes\n",
    "        d = [self.focus[a][ind] for a in analytes]\n",
    "        ds = np.vstack(d).T\n",
    "        \n",
    "    if normalise | (len(analytes) > 1):\n",
    "        ds = preprocessing.scale(ds)\n",
    "    \n",
    "    method_key = {'kmeans': self.cluster_kmeans,\n",
    "                  'DBSCAN': self.cluster_DBSCAN,\n",
    "                  'meanshift': self.cluster_meanshift}\n",
    "    \n",
    "    cfun = method_key[method]\n",
    "    \n",
    "    filts = cfun(self, ds, **kwargs)  # return dict of cluster_no: (filt, params)\n",
    "    \n",
    "    resized = {}\n",
    "    for k, v in filts.items():\n",
    "        resized[k] = np.zeros(self.Time.size, dtype=bool)\n",
    "        resized[k][sampled] = v\n",
    "    \n",
    "    namebase = 'cluster_' + method + '_' + '-'.join(analytes)\n",
    "    info = '-'.join(analytes) + ' cluster filter.'\n",
    "    \n",
    "    if method == 'DBSCAN':\n",
    "        for k,v in resized.items():\n",
    "            if type(k) is str:\n",
    "                name = namebase + '_core'\n",
    "            elif k < 0:\n",
    "                name = namebase + '_noise'\n",
    "            else:\n",
    "                name = namebase + '_{:.0f}'.format(k)\n",
    "            self.filt.add_filt(name, v, info=info, params=params)\n",
    "    else:\n",
    "        for k,v in resized.items():\n",
    "            name = namebase + '_{:.0f}'.format(k)\n",
    "            self.filt.add_filt(name, v, info=info, params=params)"
   ]
  },
  {
   "cell_type": "code",
   "execution_count": 120,
   "metadata": {
    "collapsed": true
   },
   "outputs": [],
   "source": [
    "self.filter_clustering = filter_clustering\n"
   ]
  },
  {
   "cell_type": "code",
   "execution_count": 121,
   "metadata": {
    "collapsed": false
   },
   "outputs": [],
   "source": [
    "self.filter_clustering(self, ['Al27'], filt=True, method='kmeans', n_clusters=3)"
   ]
  },
  {
   "cell_type": "code",
   "execution_count": 122,
   "metadata": {
    "collapsed": false
   },
   "outputs": [
    {
     "name": "stdout",
     "output_type": "stream",
     "text": [
      "Filter Name            Mg24   Mg25   Al27   Ca43   Ca44   Mn55   Sr88   Ba137  Ba138  \n",
      "Al27_Ba138_corr        False  False  False  False  False  False  False  False  True   \n",
      "Al27_distribution_0    False  False  False  False  False  False  False  False  False  \n",
      "Al27_distribution_1    False  False  False  False  False  False  False  False  False  \n",
      "Al27_distribution_2    False  False  False  False  False  False  False  False  False  \n",
      "Al27_distribution_3    False  False  False  False  False  False  False  False  False  \n",
      "Al27_thresh            True   True   True   True   True   True   True   True   True   \n",
      "cluster_kmeans_Al27_0  True   True   True   True   True   True   True   True   True   \n",
      "cluster_kmeans_Al27_1  True   True   True   True   True   True   True   True   True   \n",
      "\n"
     ]
    }
   ],
   "source": [
    "print(self.filt)"
   ]
  },
  {
   "cell_type": "code",
   "execution_count": 123,
   "metadata": {
    "collapsed": true
   },
   "outputs": [],
   "source": [
    "# implement single filter visualisation in tplot"
   ]
  },
  {
   "cell_type": "code",
   "execution_count": 124,
   "metadata": {
    "collapsed": false
   },
   "outputs": [],
   "source": [
    "def cluster_meanshift(self, data, bandwidth=None, bin_seeding=True):\n",
    "    if bandwidth is None:\n",
    "        bandwidth = cl.estimate_bandwidth(data)\n",
    "    \n",
    "    ms = cl.MeanShift(bandwidth=bandwidth)\n",
    "    ms.fit(data)\n",
    "    \n",
    "    labels = ms.labels_\n",
    "    labels_unique = np.unique(labels)\n",
    "    \n",
    "    out = {}\n",
    "    for lab in labels_unique:\n",
    "        out[lab] = labels == lab\n",
    "    \n",
    "    return out"
   ]
  },
  {
   "cell_type": "code",
   "execution_count": 125,
   "metadata": {
    "collapsed": true
   },
   "outputs": [],
   "source": [
    "def cluster_kmeans(self, data, n_clusters):\n",
    "    km = cl.KMeans(2)\n",
    "    kmf = km.fit(data)\n",
    "    \n",
    "    labels = kmf.labels_\n",
    "    labels_unique = np.unique(labels)\n",
    "    \n",
    "    out = {}\n",
    "    for lab in labels_unique:\n",
    "        out[lab] = labels == lab\n",
    "    \n",
    "    return out"
   ]
  },
  {
   "cell_type": "code",
   "execution_count": 268,
   "metadata": {
    "collapsed": true
   },
   "outputs": [],
   "source": [
    "def cluster_DBSCAN(self, data, eps=None, min_samples=None, n_clusters=None, maxiter=200):\n",
    "    if min_samples is None:\n",
    "        min_samples = self.Time.size // 20\n",
    "        \n",
    "    if n_clusters is None:\n",
    "        if eps is None:\n",
    "            eps = 0.3\n",
    "        db = cl.DBSCAN(eps=eps, min_samples=min_samples).fit(data)\n",
    "    else:\n",
    "        clusters = 0\n",
    "        eps_temp = 1 / .95\n",
    "        niter = 0\n",
    "        while clusters < n_clusters:\n",
    "            clusters_last = clusters\n",
    "            eps_temp *= 0.95\n",
    "            db = cl.DBSCAN(eps=eps_temp, min_samples=15).fit(nds)\n",
    "            clusters = len(set(db.labels_)) - (1 if -1 in db.labels_ else 0)\n",
    "            if clusters < clusters_last:\n",
    "                eps_temp *= 1/0.95\n",
    "                db = cl.DBSCAN(eps=eps_temp, min_samples=15).fit(nds)\n",
    "                clusters = len(set(db.labels_)) - (1 if -1 in db.labels_ else 0)\n",
    "                warnings.warn('\\n\\n***Unable to find {:.0f} clusters in data. Found {:.0f} with an eps of {:.2e}'.format(n_clusters, clusters, eps_temp))\n",
    "                break\n",
    "            niter += 1\n",
    "            if niter == maxiter:\n",
    "                warnings.warn('\\n\\n***Maximum iterations ({:.0f}) reached, {:.0f} clusters not found.\\nDeacrease min_samples or n_clusters (or increase maxiter).'.format(maxiter, n_clusters))\n",
    "                break\n",
    "    \n",
    "    labels = db.labels_\n",
    "    labels_unique = np.unique(labels)\n",
    "    \n",
    "    core_samples_mask = np.zeros_like(labels)\n",
    "    core_samples_mask[db.core_sample_indices_] = True\n",
    "\n",
    "    out = {}\n",
    "    for lab in labels_unique:\n",
    "        out[lab] = labels == lab\n",
    "    \n",
    "    out['core'] = core_samples_mask\n",
    "        \n",
    "    return out"
   ]
  },
  {
   "cell_type": "code",
   "execution_count": null,
   "metadata": {
    "collapsed": true
   },
   "outputs": [],
   "source": []
  },
  {
   "cell_type": "markdown",
   "metadata": {},
   "source": [
    "### Test"
   ]
  },
  {
   "cell_type": "code",
   "execution_count": 269,
   "metadata": {
    "collapsed": true
   },
   "outputs": [],
   "source": [
    "self.filter_clustering = filter_clustering\n",
    "\n",
    "self.cluster_DBSCAN = cluster_DBSCAN\n",
    "self.cluster_kmeans = cluster_kmeans\n",
    "self.cluster_meanshift = cluster_meanshift"
   ]
  },
  {
   "cell_type": "code",
   "execution_count": 270,
   "metadata": {
    "collapsed": true
   },
   "outputs": [],
   "source": [
    "self.filt.off(filt='cluster')"
   ]
  },
  {
   "cell_type": "code",
   "execution_count": 271,
   "metadata": {
    "collapsed": false
   },
   "outputs": [
    {
     "name": "stderr",
     "output_type": "stream",
     "text": [
      "/Users/oscarbranson/anaconda/envs/py3/lib/python3.5/site-packages/ipykernel/__main__.py:22: UserWarning: \n",
      "\n",
      "***Unable to find 4 clusters in data. Found 3 with an eps of 2.64e-01\n"
     ]
    }
   ],
   "source": [
    "self.filter_clustering(self, 'Al27', filt=True, method='DBSCAN', n_clusters=4)"
   ]
  },
  {
   "cell_type": "code",
   "execution_count": 272,
   "metadata": {
    "collapsed": false
   },
   "outputs": [
    {
     "name": "stdout",
     "output_type": "stream",
     "text": [
      "Filter Name                     Mg24   Mg25   Al27   Ca43   Ca44   Mn55   Sr88   Ba137  Ba138  \n",
      "Al27_Ba138_corr                 False  False  False  False  False  False  False  False  True   \n",
      "Al27_distribution_0             False  False  False  False  False  False  False  False  False  \n",
      "Al27_distribution_1             False  False  False  False  False  False  False  False  False  \n",
      "Al27_distribution_2             False  False  False  False  False  False  False  False  False  \n",
      "Al27_distribution_3             False  False  False  False  False  False  False  False  False  \n",
      "Al27_thresh                     True   True   True   True   True   True   True   True   True   \n",
      "cluster_DBSCAN_Al27_0           True   True   True   True   True   True   True   True   True   \n",
      "cluster_DBSCAN_Al27_1           True   True   True   True   True   True   True   True   True   \n",
      "cluster_DBSCAN_Al27_2           True   True   True   True   True   True   True   True   True   \n",
      "cluster_DBSCAN_Al27_core        True   True   True   True   True   True   True   True   True   \n",
      "cluster_DBSCAN_Al27_noise       True   True   True   True   True   True   True   True   True   \n",
      "cluster_kmeans_Al27_0           False  False  False  False  False  False  False  False  False  \n",
      "cluster_kmeans_Al27_1           False  False  False  False  False  False  False  False  False  \n",
      "cluster_meanshift_Al27-Ba138_0  False  False  False  False  False  False  False  False  False  \n",
      "cluster_meanshift_Al27-Ba138_1  False  False  False  False  False  False  False  False  False  \n",
      "\n"
     ]
    }
   ],
   "source": [
    "print(self.filt)"
   ]
  },
  {
   "cell_type": "code",
   "execution_count": null,
   "metadata": {
    "collapsed": true
   },
   "outputs": [],
   "source": []
  },
  {
   "cell_type": "code",
   "execution_count": 154,
   "metadata": {
    "collapsed": false
   },
   "outputs": [],
   "source": [
    "filts = self.filt.get_components('DBSCAN')"
   ]
  },
  {
   "cell_type": "code",
   "execution_count": 155,
   "metadata": {
    "collapsed": false
   },
   "outputs": [
    {
     "data": {
      "text/plain": [
       "<matplotlib.legend.Legend at 0x1126d18d0>"
      ]
     },
     "execution_count": 155,
     "metadata": {},
     "output_type": "execute_result"
    },
    {
     "data": {
      "image/png": "[encoded data removed]",
      "text/plain": [
       "<matplotlib.figure.Figure at 0x1121a9b38>"
      ]
     },
     "metadata": {},
     "output_type": "display_data"
    }
   ],
   "source": [
    "cs = plt.cm.get_cmap('Spectral')\n",
    "cs = itertools.cycle(cs(np.linspace(0,1,len(filts))))\n",
    "\n",
    "fig, ax = plt.subplots(1,1)\n",
    "\n",
    "for k in sorted(filts.keys()):\n",
    "    ind = filts[k]\n",
    "    ax.scatter(self.Time[ind], self.Al27[ind], lw=0.2, c=next(cs), alpha=0.8, label=k)\n",
    "    \n",
    "ax.set_ylim(np.nanmin(self.Al27), np.nanmax(self.Al27))\n",
    "ax.legend()"
   ]
  },
  {
   "cell_type": "markdown",
   "metadata": {},
   "source": [
    "### Dev"
   ]
  },
  {
   "cell_type": "code",
   "execution_count": 284,
   "metadata": {
    "collapsed": false
   },
   "outputs": [],
   "source": [
    "ind = self.filt.make_filt('Al27')\n",
    "d = self.Al27\n",
    "ds = d[ind]\n",
    "sampled = np.arange(self.Time.size)[ind]\n",
    "\n",
    "filt = ds < 6.3E-5\n",
    "\n",
    "outblank = ~np.isnan(d)\n",
    "\n",
    "out = outblank.copy()\n",
    "out[sampled] = filt"
   ]
  },
  {
   "cell_type": "markdown",
   "metadata": {},
   "source": [
    "#### Preprocessing"
   ]
  },
  {
   "cell_type": "code",
   "execution_count": 161,
   "metadata": {
    "collapsed": false
   },
   "outputs": [],
   "source": [
    "ind = self.filt.make_filt('Al27')\n",
    "\n",
    "d = self.Al27[ind]\n",
    "d = d[~np.isnan(d)]\n",
    "# bandwidth = np.std(d) / 100\n",
    "ds = np.array(list(zip(d,np.zeros(len(d)))))\n",
    "nds = preprocessing.scale(ds)\n",
    "\n",
    "ds2 = np.vstack([self.Al27[self.filt.make_filt(['Al27','Ba138'])], self.Ba138[self.filt.make_filt(['Al27','Ba138'])]]).T\n",
    "nds2 = preprocessing.scale(ds2)\n",
    "\n",
    "t = self.Time[ind]"
   ]
  },
  {
   "cell_type": "markdown",
   "metadata": {},
   "source": [
    "#### MeanShift"
   ]
  },
  {
   "cell_type": "code",
   "execution_count": 162,
   "metadata": {
    "collapsed": false
   },
   "outputs": [
    {
     "data": {
      "text/plain": [
       "<matplotlib.legend.Legend at 0x112e8fd68>"
      ]
     },
     "execution_count": 162,
     "metadata": {},
     "output_type": "execute_result"
    },
    {
     "data": {
      "image/png": "[encoded data removed]",
      "text/plain": [
       "<matplotlib.figure.Figure at 0x1126c3a58>"
      ]
     },
     "metadata": {},
     "output_type": "display_data"
    }
   ],
   "source": [
    "bandwidth = cl.estimate_bandwidth(nds)\n",
    "ms = cl.MeanShift(bandwidth=bandwidth, bin_seeding=True)\n",
    "\n",
    "ms.fit(nds)\n",
    "labels = ms.labels_\n",
    "cluster_centers = ms.cluster_centers_\n",
    "\n",
    "labels_unique = np.unique(labels)\n",
    "n_clusters_ = len(labels_unique)\n",
    "\n",
    "cs = itertools.cycle(['b','g','r','c','m','y','k'])\n",
    "\n",
    "fig = plt.figure()\n",
    "sax = fig.add_axes([.1,.1,.6,.8])\n",
    "hax = fig.add_axes([.7,.1,.2,.8])\n",
    "\n",
    "bins = np.linspace(0,max(d),40)\n",
    "for k in range(n_clusters_):\n",
    "    my_members = labels == k\n",
    "    c = next(cs)\n",
    "    sax.scatter(t[my_members], ds[my_members, 0], label='Cluster {:.0f}'.format(k), lw=0, color=c)\n",
    "    hax.hist(ds[my_members, 0], bins, label='Cluster {:.0f}'.format(k), color=c, orientation='horizontal', alpha=0.5)\n",
    "    \n",
    "#     print(\"cluster {0}: {1}\".format(k, D[my_members, 0]))\n",
    "# sax.legend()\n",
    "\n",
    "sax.set_ylim(0, max(d))\n",
    "hax.set_ylim(0, max(d))\n",
    "\n",
    "hax.set_yticklabels([])\n",
    "sax.set_xticks(sax.get_xticks()[:-1])\n",
    "\n",
    "hax.legend()"
   ]
  },
  {
   "cell_type": "markdown",
   "metadata": {},
   "source": [
    "- bandwidth"
   ]
  },
  {
   "cell_type": "markdown",
   "metadata": {},
   "source": [
    "#### K-Means"
   ]
  },
  {
   "cell_type": "code",
   "execution_count": 163,
   "metadata": {
    "collapsed": false
   },
   "outputs": [
    {
     "data": {
      "text/plain": [
       "<matplotlib.legend.Legend at 0x112f1bbe0>"
      ]
     },
     "execution_count": 163,
     "metadata": {},
     "output_type": "execute_result"
    },
    {
     "data": {
      "image/png": "[encoded data removed]",
      "text/plain": [
       "<matplotlib.figure.Figure at 0x11186bf28>"
      ]
     },
     "metadata": {},
     "output_type": "display_data"
    }
   ],
   "source": [
    "km = cl.KMeans(2)\n",
    "kmf = km.fit(nds2)\n",
    "\n",
    "\n",
    "# plot\n",
    "\n",
    "cs = itertools.cycle(['b','g','r','c','m','y','k'])\n",
    "\n",
    "fig = plt.figure()\n",
    "sax = fig.add_axes([.1,.1,.6,.8])\n",
    "hax = fig.add_axes([.7,.1,.2,.8])\n",
    "\n",
    "for i in np.unique(kmf.labels_):\n",
    "    ind = kmf.labels_ == i\n",
    "    c = next(cs)\n",
    "    sax.scatter(t[ind], d[ind], c=c, lw=0)\n",
    "    hax.hist(d[ind], bins, label='Cluster {:.0f}'.format(i), color=c, orientation='horizontal', alpha=0.5)\n",
    "\n",
    "sax.set_ylim(0, max(d))\n",
    "hax.set_ylim(0, max(d))\n",
    "\n",
    "hax.set_yticklabels([])\n",
    "sax.set_xticks(sax.get_xticks()[:-1])\n",
    "\n",
    "hax.legend()"
   ]
  },
  {
   "cell_type": "code",
   "execution_count": 164,
   "metadata": {
    "collapsed": false
   },
   "outputs": [
    {
     "data": {
      "text/plain": [
       "<matplotlib.legend.Legend at 0x1139b62b0>"
      ]
     },
     "execution_count": 164,
     "metadata": {},
     "output_type": "execute_result"
    },
    {
     "data": {
      "image/png": "[encoded data removed]",
      "text/plain": [
       "<matplotlib.figure.Figure at 0x1108cd128>"
      ]
     },
     "metadata": {},
     "output_type": "display_data"
    }
   ],
   "source": [
    "km = cl.KMeans(3)\n",
    "kmf = km.fit(nds2)\n",
    "\n",
    "\n",
    "# plot\n",
    "\n",
    "cs = itertools.cycle(['b','g','r','c','m','y','k'])\n",
    "\n",
    "fig = plt.figure()\n",
    "sax = fig.add_axes([.1,.1,.6,.8])\n",
    "# hax = fig.add_axes([.7,.1,.2,.8])\n",
    "\n",
    "for i in np.unique(kmf.labels_):\n",
    "    ind = kmf.labels_ == i\n",
    "    c = next(cs)\n",
    "    sax.scatter(ds2[ind,0], ds2[ind,1], c=c, lw=0, label='Cluster {:.0f}'.format(i))\n",
    "#     hax.hist(d[ind], bins, label='Cluster {:.0f}'.format(i), color=c, orientation='horizontal', alpha=0.5)\n",
    "\n",
    "sax.set_ylim(min(ds2[:,1]), max(ds2[:,1]))\n",
    "sax.set_xlim(min(ds2[:,0]), max(ds2[:,0]))\n",
    "\n",
    "# hax.set_ylim(0, max(d))\n",
    "\n",
    "# hax.set_yticklabels([])\n",
    "# sax.set_xticks(sax.get_xticks()[:-1])\n",
    "\n",
    "sax.set_xlabel(self.pretty_element('Al27'))\n",
    "sax.set_ylabel(self.pretty_element('Ba138'))\n",
    "\n",
    "sax.legend()"
   ]
  },
  {
   "cell_type": "markdown",
   "metadata": {},
   "source": [
    "- n_clusters"
   ]
  },
  {
   "cell_type": "markdown",
   "metadata": {},
   "source": [
    "#### DBSCAN"
   ]
  },
  {
   "cell_type": "code",
   "execution_count": 165,
   "metadata": {
    "collapsed": false
   },
   "outputs": [],
   "source": [
    "# core_samples_mask = np.zeros_like(db.labels_, dtype=bool)\n"
   ]
  },
  {
   "cell_type": "code",
   "execution_count": 315,
   "metadata": {
    "collapsed": false
   },
   "outputs": [
    {
     "data": {
      "text/plain": [
       "<matplotlib.legend.Legend at 0x137110898>"
      ]
     },
     "execution_count": 315,
     "metadata": {},
     "output_type": "execute_result"
    },
    {
     "data": {
      "image/png": "[encoded data removed]",
      "text/plain": [
       "<matplotlib.figure.Figure at 0x13407b908>"
      ]
     },
     "metadata": {},
     "output_type": "display_data"
    }
   ],
   "source": [
    "# scaler = StandardScaler()\n",
    "# scaler.fit(ds)\n",
    "nds = preprocessing.scale(nds2)\n",
    "\n",
    "\n",
    "db = cl.DBSCAN(eps=0.3, min_samples=15).fit(nds)\n",
    "\n",
    "core_samples_mask = np.zeros_like(db.labels_, dtype=bool)\n",
    "core_samples_mask[db.core_sample_indices_] = True\n",
    "labels = db.labels_\n",
    "\n",
    "# Number of clusters in labels, ignoring noise if present.\n",
    "n_clusters_ = len(set(labels)) - (1 if -1 in labels else 0)\n",
    "\n",
    "unique_labels = set(labels)\n",
    "\n",
    "\n",
    "fig = plt.figure()\n",
    "sax = fig.add_axes([.1,.1,.6,.8])\n",
    "hax = fig.add_axes([.7,.1,.2,.8])\n",
    "\n",
    "cs = itertools.cycle(['b','g','r','c','m','y','k'])\n",
    "\n",
    "for k in unique_labels:\n",
    "    if k == -1:\n",
    "        # Black used for noise.\n",
    "        col = 'k'\n",
    "        lab = 'Noise'\n",
    "    else:\n",
    "        col = next(cs)\n",
    "        lab = 'Cluster {:.0f}'.format(k)\n",
    "\n",
    "    class_member_mask = (labels == k)\n",
    "\n",
    "    ind = [class_member_mask & core_samples_mask]\n",
    "    sax.scatter(t[ind], d[ind], color=col, lw=0)\n",
    "    hax.hist(d[ind], bins, color=col, orientation='horizontal', alpha=0.5)\n",
    "    \n",
    "#     plt.plot(xy[:, 0], xy[:, 1], 'o', markerfacecolor=col,\n",
    "#              markeredgecolor='k', markersize=14)\n",
    "    \n",
    "    ind = [class_member_mask & ~core_samples_mask]\n",
    "    sax.scatter(t[ind], d[ind], color=col, lw=1, marker='x', alpha=0.5)\n",
    "    hax.hist(d[ind], bins, color=col, orientation='horizontal', label=lab, alpha=0.2, lw=0)\n",
    "#     plt.plot(xy[:, 0], xy[:, 1], 'o', markerfacecolor=col,\n",
    "#              markeredgecolor='k', markersize=6)\n",
    "\n",
    "sax.set_ylim(0, max(d))\n",
    "hax.set_ylim(0, max(d))\n",
    "\n",
    "hax.set_yticklabels([])\n",
    "sax.set_xticks(sax.get_xticks()[:-1])\n",
    "\n",
    "hax.legend()"
   ]
  },
  {
   "cell_type": "markdown",
   "metadata": {},
   "source": [
    "- eps\n",
    "- min_samples"
   ]
  },
  {
   "cell_type": "code",
   "execution_count": null,
   "metadata": {
    "collapsed": true
   },
   "outputs": [],
   "source": []
  },
  {
   "cell_type": "code",
   "execution_count": null,
   "metadata": {
    "collapsed": true
   },
   "outputs": [],
   "source": [
    "def cluster_DBSCAN(self, data, eps=None, min_samples=None, n_clusters=None):\n",
    "    if min_samples is None:\n",
    "        min_samples = self.Time.size // 20\n",
    "        \n",
    "    if n_clusters is None:\n",
    "        if eps is None:\n",
    "            eps = 0.3\n",
    "        db = cl.DBSCAN(eps=eps, min_samples=min_samples).fit(data)\n",
    "    else:\n",
    "        clusters = n_clusters + 1\n",
    "        eps_temp = 0.8\n",
    "        while clusters > n_clusters:\n",
    "            db = cl.DBSCAN(eps=eps_temp, min_samples=min_samples).fit(data)\n",
    "            clusters = len(set(db.labels_)) - (1 if -1 in db.labels_ else 0)\n",
    "            eps_temp *= 0.9\n",
    "    \n",
    "    labels = db.labels_\n",
    "    labels_unique = np.unique(labels)\n",
    "    \n",
    "    core_samples_mask = np.zeros_like(labels)\n",
    "    core_samples_mask[db.core_sample_indices_] = True\n",
    "\n",
    "    out = {}\n",
    "    for lab in labels_unique:\n",
    "        out[lab] = labels == lab\n",
    "    \n",
    "    out['core'] = core_samples_mask\n",
    "        \n",
    "    return out"
   ]
  },
  {
   "cell_type": "code",
   "execution_count": null,
   "metadata": {
    "collapsed": true
   },
   "outputs": [],
   "source": []
  },
  {
   "cell_type": "code",
   "execution_count": 174,
   "metadata": {
    "collapsed": true
   },
   "outputs": [],
   "source": [
    "n_clusters = 3\n",
    "\n",
    "clusters = n_clusters + 1"
   ]
  },
  {
   "cell_type": "code",
   "execution_count": 175,
   "metadata": {
    "collapsed": false
   },
   "outputs": [
    {
     "data": {
      "text/plain": [
       "True"
      ]
     },
     "execution_count": 175,
     "metadata": {},
     "output_type": "execute_result"
    }
   ],
   "source": [
    "clusters > n_clusters"
   ]
  },
  {
   "cell_type": "code",
   "execution_count": 176,
   "metadata": {
    "collapsed": false
   },
   "outputs": [
    {
     "name": "stdout",
     "output_type": "stream",
     "text": [
      "1.0\n",
      "0.9\n",
      "0.81\n",
      "0.7290000000000001\n",
      "0.6561000000000001\n",
      "0.5904900000000002\n",
      "0.5314410000000002\n",
      "0.47829690000000014\n",
      "0.43046721000000016\n",
      "0.38742048900000015\n",
      "0.34867844010000015\n",
      "0.31381059609000017\n",
      "0.28242953648100017\n",
      "0.25418658283290013\n",
      "0.22876792454961012\n"
     ]
    }
   ],
   "source": [
    "# scaler = StandardScaler()\n",
    "# scaler.fit(ds)\n",
    "\n",
    "n_clusters = 3\n",
    "\n",
    "clusters = n_clusters - 1\n",
    "eps_temp = 1 / .9\n",
    "while clusters < n_clusters:\n",
    "    eps_temp *= 0.9\n",
    "    print(eps_temp)\n",
    "    db = cl.DBSCAN(eps=eps_temp, min_samples=15).fit(nds)\n",
    "    clusters = len(set(db.labels_)) - (1 if -1 in db.labels_ else 0)\n",
    "    \n",
    "\n",
    "\n",
    "    \n",
    "# core_samples_mask = np.zeros_like(db.labels_, dtype=bool)\n",
    "# core_samples_mask[db.core_sample_indices_] = True\n",
    "# labels = db.labels_\n",
    "\n",
    "# # Number of clusters in labels, ignoring noise if present.\n",
    "# n_clusters_ = len(set(labels)) - (1 if -1 in labels else 0)\n",
    "\n",
    "# unique_labels = set(labels)\n",
    "\n",
    "# else:\n",
    "#     clusters = n_clusters + 1\n",
    "#     eps_temp = 0.8\n",
    "#     while clusters > n_clusters:\n",
    "#         db = cl.DBSCAN(eps=eps_temp, min_samples=min_samples).fit(data)\n",
    "#         clusters = len(set(db.labels_)) - (1 if -1 in db.labels_ else 0)\n",
    "#         eps_temp *= 0.9\n",
    "\n",
    "\n",
    "# fig = plt.figure()\n",
    "# sax = fig.add_axes([.1,.1,.6,.8])\n",
    "# hax = fig.add_axes([.7,.1,.2,.8])\n",
    "\n",
    "# cs = itertools.cycle(['b','g','r','c','m','y','k'])\n",
    "\n",
    "# for k in unique_labels:\n",
    "#     if k == -1:\n",
    "#         # Black used for noise.\n",
    "#         col = 'k'\n",
    "#         lab = 'Noise'\n",
    "#     else:\n",
    "#         col = next(cs)\n",
    "#         lab = 'Cluster {:.0f}'.format(k)\n",
    "\n",
    "#     class_member_mask = (labels == k)\n",
    "\n",
    "#     ind = [class_member_mask & core_samples_mask]\n",
    "#     sax.scatter(t[ind], d[ind], color=col, lw=0)\n",
    "#     hax.hist(d[ind], bins, color=col, orientation='horizontal', alpha=0.5)\n",
    "    \n",
    "# #     plt.plot(xy[:, 0], xy[:, 1], 'o', markerfacecolor=col,\n",
    "# #              markeredgecolor='k', markersize=14)\n",
    "    \n",
    "#     ind = [class_member_mask & ~core_samples_mask]\n",
    "#     sax.scatter(t[ind], d[ind], color=col, lw=1, marker='x', alpha=0.5)\n",
    "#     hax.hist(d[ind], bins, color=col, orientation='horizontal', label=lab, alpha=0.2, lw=0)\n",
    "# #     plt.plot(xy[:, 0], xy[:, 1], 'o', markerfacecolor=col,\n",
    "# #              markeredgecolor='k', markersize=6)\n",
    "\n",
    "# sax.set_ylim(0, max(d))\n",
    "# hax.set_ylim(0, max(d))\n",
    "\n",
    "# hax.set_yticklabels([])\n",
    "# sax.set_xticks(sax.get_xticks()[:-1])\n",
    "\n",
    "# hax.legend()"
   ]
  }
 ],
 "metadata": {
  "kernelspec": {
   "display_name": "Python [default]",
   "language": "python",
   "name": "python3"
  },
  "language_info": {
   "codemirror_mode": {
    "name": "ipython",
    "version": 3
   },
   "file_extension": ".py",
   "mimetype": "text/x-python",
   "name": "python",
   "nbconvert_exporter": "python",
   "pygments_lexer": "ipython3",
   "version": "3.5.2"
  }
 },
 "nbformat": 4,
 "nbformat_minor": 0
}
