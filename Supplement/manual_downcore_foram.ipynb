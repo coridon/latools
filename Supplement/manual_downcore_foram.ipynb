{
 "cells": [
  {
   "cell_type": "code",
   "execution_count": 1,
   "metadata": {},
   "outputs": [
    {
     "name": "stdout",
     "output_type": "stream",
     "text": [
      "The pandas.core.datetools module is deprecated and will be removed in a future version. Please use the pandas.tseries module instead.\n"
     ]
    }
   ],
   "source": [
    "%load_ext autoreload\n",
    "%autoreload 2\n",
    "\n",
    "import pandas as pd\n",
    "import numpy as np\n",
    "\n",
    "import latools as la\n",
    "\n",
    "from comparison_tools import helpers, stats, plots\n",
    "\n",
    "import matplotlib.pyplot as plt\n",
    "%matplotlib inline"
   ]
  },
  {
   "cell_type": "markdown",
   "metadata": {},
   "source": [
    "## LAtools Data Processing\n",
    "\n",
    "First, import the data and perform the basic processing steps and calibration."
   ]
  },
  {
   "cell_type": "code",
   "execution_count": 2,
   "metadata": {},
   "outputs": [
    {
     "name": "stdout",
     "output_type": "stream",
     "text": [
      "latools analysis using \"DEFAULT\" configuration:\n",
      "  58 Data Files Loaded: 6 standards, 52 samples\n",
      "  Analytes: Mg24 Mg25 Al27 Ca43 Ca44 Mn55 Sr88 Ba138\n",
      "  Internal Standard: Ca43\n"
     ]
    }
   ],
   "source": [
    "dat = la.analyse('./raw_data/downcore_foram', srm_identifier='610')"
   ]
  },
  {
   "cell_type": "code",
   "execution_count": 3,
   "metadata": {},
   "outputs": [
    {
     "name": "stderr",
     "output_type": "stream",
     "text": [
      "Despiking: 100%|██████████| 58/58 [00:00<00:00, 1199.05it/s]\n",
      "AutoRange: 100%|██████████| 58/58 [00:05<00:00,  9.78it/s]\n",
      "Background Subtraction: 100%|██████████| 58/58 [00:04<00:00, 13.84it/s]\n",
      "Ratio Calculation: 100%|██████████| 58/58 [00:02<00:00, 21.93it/s]\n",
      "Applying Calibrations: 100%|██████████| 58/58 [00:05<00:00,  9.94it/s]\n"
     ]
    }
   ],
   "source": [
    "dat.basic_processing(autorange_off_mult=[1, 3], autorange_on_mult=[3, 1], autorange_win=20, autorange_gwin=7,\n",
    "                     bkg_weight_fwhm=1000, bkg_filter=True, bkg_cstep=100, calib_srms_used=['NIST610'],\n",
    "                     calib_drift_correct=True, plots=False)"
   ]
  },
  {
   "cell_type": "code",
   "execution_count": 4,
   "metadata": {},
   "outputs": [],
   "source": [
    "# dat.despike(maxiter=4)"
   ]
  },
  {
   "cell_type": "code",
   "execution_count": 5,
   "metadata": {},
   "outputs": [],
   "source": [
    "# dat.autorange(analyte='total_counts', off_mult=[1, 3], on_mult=[3, 1],\n",
    "#               win=20, gwin=7, transform='log')"
   ]
  },
  {
   "cell_type": "code",
   "execution_count": 6,
   "metadata": {},
   "outputs": [],
   "source": [
    "# dat.trace_plots(ranges=True)"
   ]
  },
  {
   "cell_type": "code",
   "execution_count": 7,
   "metadata": {},
   "outputs": [],
   "source": [
    "# dat.bkg_calc_weightedmean(weight_fwhm=1000, filter=True, cstep=100)"
   ]
  },
  {
   "cell_type": "code",
   "execution_count": 8,
   "metadata": {},
   "outputs": [],
   "source": [
    "# fig, ax = dat.bkg_plot()"
   ]
  },
  {
   "cell_type": "code",
   "execution_count": 9,
   "metadata": {},
   "outputs": [],
   "source": [
    "# dat.bkg_subtract()"
   ]
  },
  {
   "cell_type": "code",
   "execution_count": 10,
   "metadata": {},
   "outputs": [],
   "source": [
    "# dat.ratio()"
   ]
  },
  {
   "cell_type": "code",
   "execution_count": 11,
   "metadata": {},
   "outputs": [],
   "source": [
    "# dat.calibrate(srms_used=['NIST610'], drift_correct=True)"
   ]
  },
  {
   "cell_type": "code",
   "execution_count": 12,
   "metadata": {},
   "outputs": [],
   "source": [
    "# fig, axs = dat.calibration_plot()"
   ]
  },
  {
   "cell_type": "markdown",
   "metadata": {},
   "source": [
    "## Data Filtering"
   ]
  },
  {
   "cell_type": "code",
   "execution_count": 13,
   "metadata": {},
   "outputs": [],
   "source": [
    "# fig, axs = dat.crossplot()"
   ]
  },
  {
   "cell_type": "code",
   "execution_count": 14,
   "metadata": {},
   "outputs": [],
   "source": [
    "dat.filter_clear()"
   ]
  },
  {
   "cell_type": "code",
   "execution_count": 15,
   "metadata": {},
   "outputs": [],
   "source": [
    "# _ = dat.gradient_crossplot(['Ba138', 'Al27', 'Mn55'], 15, filt=True)"
   ]
  },
  {
   "cell_type": "markdown",
   "metadata": {},
   "source": [
    "### Threshold Filters\n",
    "\n",
    "Our 'first pass' filters are based on element concentrations, with thresholds defined from *a-priori* knowledge of reasonable *O. universa* compositions from culture studies. We'll calculate filters for Al/Ca = 0.1 mmol/mol, Mn/Ca = 0.2 mmol/mol and Ba/Ca = 10 $\\mu$mol/mol."
   ]
  },
  {
   "cell_type": "code",
   "execution_count": 16,
   "metadata": {},
   "outputs": [
    {
     "name": "stderr",
     "output_type": "stream",
     "text": [
      "Threshold Filter: 100%|██████████| 52/52 [00:00<00:00, 2965.10it/s]\n",
      "Threshold Filter: 100%|██████████| 52/52 [00:00<00:00, 1863.05it/s]\n",
      "Threshold Filter: 100%|██████████| 52/52 [00:00<00:00, 2606.22it/s]\n"
     ]
    }
   ],
   "source": [
    "# calculate concentration thresholds, based on maximum feasible compositions from cultured O universa.\n",
    "dat.filter_threshold('Al27', 0.1e-3)  # remove Al/Ca > 100 mmol/mol\n",
    "dat.filter_threshold('Mn55', 0.2e-3)  # remove Mn/Ca > 200 mmol/mol\n",
    "dat.filter_threshold('Ba138', 10e-6)  # remove Ba/Ca > 10 umol/mol"
   ]
  },
  {
   "cell_type": "markdown",
   "metadata": {},
   "source": [
    "Next, we know that certain elements, like Ba and Sr, should be homogeneous throughout the test. We can remove regions where they aren't homogeneous using a gradient filter. But what gradients should we use in the filter? The specific values are obviously depenent on factors like the size of the moving-window used to calculate the gradient, so the best way to work out gradient cutoffs is is to actually look at the gradients."
   ]
  },
  {
   "cell_type": "code",
   "execution_count": 17,
   "metadata": {},
   "outputs": [
    {
     "name": "stderr",
     "output_type": "stream",
     "text": [
      "Calculating Gradients: 100%|██████████| 52/52 [00:09<00:00,  5.75it/s]\n"
     ]
    },
    {
     "data": {
      "text/plain": [
       "(<matplotlib.figure.Figure at 0x7f998b0caef0>,\n",
       " array([<matplotlib.axes._subplots.AxesSubplot object at 0x7f9943c383c8>,\n",
       "        <matplotlib.axes._subplots.AxesSubplot object at 0x7f9942b41080>], dtype=object))"
      ]
     },
     "execution_count": 17,
     "metadata": {},
     "output_type": "execute_result"
    },
    {
     "data": {
      "image/png": "[encoded data removed]",
      "text/plain": [
       "<matplotlib.figure.Figure at 0x7f998b0caef0>"
      ]
     },
     "metadata": {},
     "output_type": "display_data"
    }
   ],
   "source": [
    "dat.gradient_histogram(['Ba138', 'Sr88'], win=21)"
   ]
  },
  {
   "cell_type": "markdown",
   "metadata": {},
   "source": [
    "The high and low tails of these histograms represent the variable regions of the data, and we can see that reasonable thresholds would be a Ba/Ca of ~230 nmol/mol/s, and Sr/Ca of ~50 umol/mol/s. Let's calculate these:"
   ]
  },
  {
   "cell_type": "code",
   "execution_count": 18,
   "metadata": {},
   "outputs": [
    {
     "name": "stderr",
     "output_type": "stream",
     "text": [
      "Threshold Filter: 100%|██████████| 52/52 [00:04<00:00, 10.91it/s]\n",
      "Threshold Filter: 100%|██████████| 52/52 [00:04<00:00, 11.26it/s]\n"
     ]
    }
   ],
   "source": [
    "# calculate gradient thresholds (note all units are mol/mol in the data)\n",
    "dat.filter_gradient_threshold('Ba138', 250e-9, win=21)\n",
    "dat.filter_gradient_threshold('Sr88', 50e-6, win=21)"
   ]
  },
  {
   "cell_type": "markdown",
   "metadata": {},
   "source": [
    "Now we have a range of calculated filters, but none of them are active yet."
   ]
  },
  {
   "cell_type": "code",
   "execution_count": 19,
   "metadata": {},
   "outputs": [
    {
     "name": "stdout",
     "output_type": "stream",
     "text": [
      "Subset: All Samples\n",
      "\n",
      "n  Filter Name            Mg24   Mg25   Al27   Ca43   Ca44   Mn55   Sr88   Ba138  \n",
      "0  Al27_thresh_below      False  False  False  False  False  False  False  False  \n",
      "1  Al27_thresh_above      False  False  False  False  False  False  False  False  \n",
      "2  Mn55_thresh_below      False  False  False  False  False  False  False  False  \n",
      "3  Mn55_thresh_above      False  False  False  False  False  False  False  False  \n",
      "4  Ba138_thresh_below     False  False  False  False  False  False  False  False  \n",
      "5  Ba138_thresh_above     False  False  False  False  False  False  False  False  \n",
      "6  Ba138_gthresh_below    False  False  False  False  False  False  False  False  \n",
      "7  Ba138_gthresh_above    False  False  False  False  False  False  False  False  \n",
      "8  Sr88_gthresh_below     False  False  False  False  False  False  False  False  \n",
      "9  Sr88_gthresh_above     False  False  False  False  False  False  False  False  \n",
      "\n"
     ]
    }
   ],
   "source": [
    "dat.filter_status()"
   ]
  },
  {
   "cell_type": "markdown",
   "metadata": {},
   "source": [
    "### Creating Useful Filters\n",
    "\n",
    "Threshold filters alone can be inherently 'fragmented' - i.e. if a region of data oscilates either side of the threshold value, this will produce lots of filter 'fragments'. These aren't particularly useful, and we should remove them. These 'fragmented' regions can be either removed or excluded, using the `filter_defragment` function.\n",
    "\n",
    "Threshold filters are also rather naive. For example, we know that in spot measurements that ablate into the sample there is a degree of signal mixing from the side walls of the ablation pit. Therefore, as soon as you hit a contaminant phase, there will be trace of this contaminant signal in all data collected after you've hit it. To get around this, we can exclude data thatare 'down-hole' of contaminant signals. We can do this using the `filter_exclude_downhole` function.\n",
    "\n",
    "### Filter Selection\n",
    "In these samples, there are two types of elements - those that we know whould be homogeneous (Ba, Sr, Mn, Al) and those that we are expecting to be heterogeneous (Mg). By looking at the trace plots, it's evident that the main source of Mg variability is natural heterogeneity, as there's relatively little correlation with the contaminant indicators (Mn, Al, Ba). Therefore, we're going to use different filter combinations for these types of elements.\n",
    "\n",
    "For homogeneous-type elements, we'll apply all the filters, defragment, and exclude down-hole regions.|"
   ]
  },
  {
   "cell_type": "code",
   "execution_count": 20,
   "metadata": {},
   "outputs": [
    {
     "name": "stdout",
     "output_type": "stream",
     "text": [
      "Subset: All Samples\n",
      "\n",
      "n  Filter Name            Mg24   Mg25   Al27   Ca43   Ca44   Mn55   Sr88   Ba138  \n",
      "0  Al27_thresh_below      False  False  False  False  False  False  False  False  \n",
      "1  Al27_thresh_above      False  False  False  False  False  False  False  False  \n",
      "2  Mn55_thresh_below      False  False  False  False  False  False  False  False  \n",
      "3  Mn55_thresh_above      False  False  False  False  False  False  False  False  \n",
      "4  Ba138_thresh_below     False  False  False  False  False  False  False  False  \n",
      "5  Ba138_thresh_above     False  False  False  False  False  False  False  False  \n",
      "6  Ba138_gthresh_below    False  False  False  False  False  False  False  False  \n",
      "7  Ba138_gthresh_above    False  False  False  False  False  False  False  False  \n",
      "8  Sr88_gthresh_below     False  False  False  False  False  False  False  False  \n",
      "9  Sr88_gthresh_above     False  False  False  False  False  False  False  False  \n",
      "10 defrag_include_7       False  False  False  False  False  False  False  False  \n",
      "11 downhole_excl_5        False  False  True   False  False  True   False  True   \n",
      "\n"
     ]
    }
   ],
   "source": [
    "# make a filter for contaminant-prone elements\n",
    "dat.filter_defragment(7, filt='Al27_thresh_below & Mn55_thresh_below & Ba138_thresh_below & Ba138_gthresh_below & Sr88_gthresh_below')\n",
    "dat.filter_exclude_downhole(5, '8_defrag_include_7')\n",
    "# activate filter\n",
    "dat.filter_on('9_downhole_excl_5', ['Ba138', 'Al27', 'Mn55'], show_status=True)"
   ]
  },
  {
   "cell_type": "markdown",
   "metadata": {},
   "source": [
    "For heterogeneous Mg, which seems to be relatively insensitive to the other 'contaminants', we're only going to exclude high Al/Ca regions, which is indicative of ablating through the test into the underlying Al-rich carbon tape they are mounted on."
   ]
  },
  {
   "cell_type": "code",
   "execution_count": 21,
   "metadata": {},
   "outputs": [
    {
     "name": "stdout",
     "output_type": "stream",
     "text": [
      "Subset: All Samples\n",
      "\n",
      "n  Filter Name            Mg24   Mg25   Al27   Ca43   Ca44   Mn55   Sr88   Ba138  \n",
      "0  Al27_thresh_below      False  False  False  False  False  False  False  False  \n",
      "1  Al27_thresh_above      False  False  False  False  False  False  False  False  \n",
      "2  Mn55_thresh_below      False  False  False  False  False  False  False  False  \n",
      "3  Mn55_thresh_above      False  False  False  False  False  False  False  False  \n",
      "4  Ba138_thresh_below     False  False  False  False  False  False  False  False  \n",
      "5  Ba138_thresh_above     False  False  False  False  False  False  False  False  \n",
      "6  Ba138_gthresh_below    False  False  False  False  False  False  False  False  \n",
      "7  Ba138_gthresh_above    False  False  False  False  False  False  False  False  \n",
      "8  Sr88_gthresh_below     False  False  False  False  False  False  False  False  \n",
      "9  Sr88_gthresh_above     False  False  False  False  False  False  False  False  \n",
      "10 defrag_include_7       False  False  False  False  False  False  False  False  \n",
      "11 downhole_excl_5        False  False  True   False  False  True   False  True   \n",
      "12 defrag_include_15      False  False  False  False  False  False  False  False  \n",
      "13 downhole_excl_5        True   True   False  False  False  False  True   False  \n",
      "\n"
     ]
    }
   ],
   "source": [
    "# make a filter for Mg (less strict)\n",
    "dat.filter_defragment(15, filt='Al27_thresh_below')\n",
    "dat.filter_exclude_downhole(5, '12_defrag_include_15')\n",
    "# # activate filter\n",
    "dat.filter_on('13_exclude_downhole_5', ['Mg24', 'Mg25', 'Sr88'], show_status=True)"
   ]
  },
  {
   "cell_type": "markdown",
   "metadata": {},
   "source": [
    "We now have two filters, one active for the homogeneous elements, and one for the heterogeneous Mg/Ca. This will do a pretty good job of selecting appropriate data regions.\n",
    "\n",
    "Let's check what the filters are actually doing:"
   ]
  },
  {
   "cell_type": "code",
   "execution_count": 22,
   "metadata": {},
   "outputs": [
    {
     "name": "stderr",
     "output_type": "stream",
     "text": [
      "Drawing Plots: 100%|██████████| 58/58 [00:14<00:00,  3.93it/s]\n"
     ]
    }
   ],
   "source": [
    "dat.trace_plots([a for a in dat.analytes if 'Ca' not in a], filt=True)"
   ]
  },
  {
   "cell_type": "markdown",
   "metadata": {},
   "source": [
    "In these plots, data that are excluded by filters are greyed out.\n",
    "\n",
    "The filters are doign a pretty good job, but there's still some variability in the Ba, which suggests some contaminant signals have not been removed.\n",
    "\n",
    "To fix this, we can go one step further:"
   ]
  },
  {
   "cell_type": "markdown",
   "metadata": {},
   "source": [
    "### Optimise Selection\n",
    "\n",
    "Ba/Ca is particularly contaminant-prone in these samples. To remove these contaminants, we will optimise the data selection such that both the mean concentration and RSD of Ba/Ca is minimised. This should identify contaminant-free regions.\n",
    "\n",
    "We apply this optimised selection to Ba/Ca, Al/Ca, Mn/Ca and Sr/Ca. Sr/Ca is not commonly treated as a contaminant-prone element. However, we know from culture work that 'pristine' Sr/Ca should be homogeneous through the test. Looking at the traces for these samples, Sr/Ca exhibits distinct variability, which tends to correlate with Ba/Ca, Mn/Ca and Al/Ca, and increase with ablation time. Thus, it seems that Sr/Ca is prone to contamination in these samples, and we will select it using our contaminant filter.\n",
    "\n",
    "(This takes a few minutes to run.)"
   ]
  },
  {
   "cell_type": "code",
   "execution_count": 23,
   "metadata": {},
   "outputs": [
    {
     "name": "stderr",
     "output_type": "stream",
     "text": [
      "Optimising: 100%|██████████| 52/52 [04:06<00:00,  4.74s/it]"
     ]
    },
    {
     "name": "stdout",
     "output_type": "stream",
     "text": [
      "\n",
      "A Few Problems:\n",
      "412_7_1: Optmisation failed. No contiguous data regions longer than 9 points.\n",
      "412_8_1: Optmisation failed. No contiguous data regions longer than 9 points.\n",
      "412_8_2: Optmisation failed. No contiguous data regions longer than 9 points.\n",
      "412_9_1: Optmisation failed. No contiguous data regions longer than 9 points.\n",
      "412_11_2: Optmisation failed. No contiguous data regions longer than 9 points.\n",
      "412_11_3: Optmisation failed. No contiguous data regions longer than 9 points.\n",
      "412_17_3: Optmisation failed. No contiguous data regions longer than 9 points.\n",
      "414_1_2: Optmisation failed. No contiguous data regions longer than 9 points.\n",
      "414_12_1: Optmisation failed. No contiguous data regions longer than 9 points.\n",
      "414_12_2: Optmisation failed. No contiguous data regions longer than 9 points.\n",
      "414_12_3: Optmisation failed. No contiguous data regions longer than 9 points.\n",
      "414_12_4: Optmisation failed. No contiguous data regions longer than 9 points.\n",
      "414_13_4: Optmisation failed. No contiguous data regions longer than 9 points.\n",
      "424_1_1: Optmisation failed. No contiguous data regions longer than 9 points.\n",
      "424_1_2: Optmisation failed. No contiguous data regions longer than 9 points.\n",
      "424_2_2: Optmisation failed. No contiguous data regions longer than 9 points.\n",
      "424_3_1: Optmisation failed. No contiguous data regions longer than 9 points.\n",
      "424_4_2: Optimisation failed. No of the threshold_mode would work. Try reducting min_points.\n",
      "424_4_3: Optmisation failed. No contiguous data regions longer than 9 points.\n",
      "424_6_1: optimisation failed using threshold_mode='kde_first_max', falling back to 'kde_max'\n",
      "424_9_1: Optmisation failed. No contiguous data regions longer than 9 points.\n",
      "424_9_2: Optmisation failed. No contiguous data regions longer than 9 points.\n",
      "424_11_1: Optmisation failed. No contiguous data regions longer than 9 points.\n",
      "424_11_2: Optmisation failed. No contiguous data regions longer than 9 points.\n",
      "424_11_3: Optmisation failed. No contiguous data regions longer than 9 points.\n",
      "424_11_4: Optmisation failed. No contiguous data regions longer than 9 points.\n",
      "424_12_2: Optmisation failed. No contiguous data regions longer than 9 points.\n",
      "424_12_4: Optmisation failed. No contiguous data regions longer than 9 points.\n",
      "424_14_2: Optmisation failed. No contiguous data regions longer than 9 points.\n",
      "424_15_2: Optmisation failed. No contiguous data regions longer than 9 points.\n",
      "424_19_1: Optmisation failed. No contiguous data regions longer than 9 points.\n",
      "\n",
      "  *** Check Optimisation Plots ***\n"
     ]
    },
    {
     "name": "stderr",
     "output_type": "stream",
     "text": [
      "\n"
     ]
    }
   ],
   "source": [
    "# Optimise Ba138 selection to minimise mean and rsd\n",
    "dat.optimise_signal(['Ba138'], 9, x_bias=0.2)"
   ]
  },
  {
   "cell_type": "code",
   "execution_count": 24,
   "metadata": {},
   "outputs": [
    {
     "name": "stderr",
     "output_type": "stream",
     "text": [
      "Drawing Plots:  65%|██████▌   | 34/52 [01:00<00:31,  1.76s/it]"
     ]
    },
    {
     "name": "stdout",
     "output_type": "stream",
     "text": [
      "Attempting to set identical bottom==top results\n",
      "in singular transformations; automatically expanding.\n",
      "bottom=9, top=9.0\n"
     ]
    },
    {
     "name": "stderr",
     "output_type": "stream",
     "text": [
      "Drawing Plots: 100%|██████████| 52/52 [01:28<00:00,  1.69s/it]\n"
     ]
    }
   ],
   "source": [
    "dat.optimisation_plots()"
   ]
  },
  {
   "cell_type": "code",
   "execution_count": 25,
   "metadata": {},
   "outputs": [
    {
     "name": "stdout",
     "output_type": "stream",
     "text": [
      "Subset: All Samples\n",
      "\n",
      "n  Filter Name            Mg24   Mg25   Al27   Ca43   Ca44   Mn55   Sr88   Ba138  \n",
      "0  Al27_thresh_below      False  False  False  False  False  False  False  False  \n",
      "1  Al27_thresh_above      False  False  False  False  False  False  False  False  \n",
      "2  Mn55_thresh_below      False  False  False  False  False  False  False  False  \n",
      "3  Mn55_thresh_above      False  False  False  False  False  False  False  False  \n",
      "4  Ba138_thresh_below     False  False  False  False  False  False  False  False  \n",
      "5  Ba138_thresh_above     False  False  False  False  False  False  False  False  \n",
      "6  Ba138_gthresh_below    False  False  False  False  False  False  False  False  \n",
      "7  Ba138_gthresh_above    False  False  False  False  False  False  False  False  \n",
      "8  Sr88_gthresh_below     False  False  False  False  False  False  False  False  \n",
      "9  Sr88_gthresh_above     False  False  False  False  False  False  False  False  \n",
      "10 defrag_include_7       False  False  False  False  False  False  False  False  \n",
      "11 downhole_excl_5        False  False  True   False  False  True   False  True   \n",
      "12 defrag_include_15      False  False  False  False  False  False  False  False  \n",
      "13 downhole_excl_5        True   True   False  False  False  False  True   False  \n",
      "14 optimise_Ba138         False  False  False  False  False  False  False  True   \n",
      "\n"
     ]
    }
   ],
   "source": [
    "dat.filter_on('optimise_Ba138', ['Ba138'], show_status=True)"
   ]
  },
  {
   "cell_type": "code",
   "execution_count": 26,
   "metadata": {},
   "outputs": [],
   "source": [
    "# dat.filter_status()"
   ]
  },
  {
   "cell_type": "code",
   "execution_count": 27,
   "metadata": {},
   "outputs": [
    {
     "name": "stderr",
     "output_type": "stream",
     "text": [
      "Calculating Stats: 100%|██████████| 58/58 [00:00<00:00, 211.81it/s]\n"
     ]
    }
   ],
   "source": [
    "dat.sample_stats(stats=['mean'])"
   ]
  },
  {
   "cell_type": "code",
   "execution_count": 28,
   "metadata": {},
   "outputs": [],
   "source": [
    "ld = dat.getstats().loc['mean'] * 1e3"
   ]
  },
  {
   "cell_type": "markdown",
   "metadata": {},
   "source": [
    "## Data Comparison"
   ]
  },
  {
   "cell_type": "code",
   "execution_count": 29,
   "metadata": {},
   "outputs": [],
   "source": [
    "# load reference and test data\n",
    "rd = helpers.load_reference_data('downcore_reference')\n",
    "td = helpers.load_reference_data('downcore_test')\n",
    "\n",
    "# combine all data\n",
    "df = rd.join(td, lsuffix='_r', rsuffix='_t')\n",
    "df = df.join(ld)"
   ]
  },
  {
   "cell_type": "code",
   "execution_count": 30,
   "metadata": {},
   "outputs": [
    {
     "data": {
      "text/plain": [
       "53"
      ]
     },
     "execution_count": 30,
     "metadata": {},
     "output_type": "execute_result"
    }
   ],
   "source": [
    "# number of unique samples\n",
    "np.unique(rd.index.levels[0]).size"
   ]
  },
  {
   "cell_type": "markdown",
   "metadata": {},
   "source": [
    "## Characterise inter-replicate reproducibility in Reference data"
   ]
  },
  {
   "cell_type": "code",
   "execution_count": 31,
   "metadata": {},
   "outputs": [
    {
     "data": {
      "image/png": "[encoded data removed]",
      "text/plain": [
       "<matplotlib.figure.Figure at 0x7f991f7792b0>"
      ]
     },
     "metadata": {},
     "output_type": "display_data"
    }
   ],
   "source": [
    "# in reference data\n",
    "_, rep_dists, rep_stats, _ = stats.pairwise_reproducibility(rd, plot=True)"
   ]
  },
  {
   "cell_type": "code",
   "execution_count": 32,
   "metadata": {},
   "outputs": [],
   "source": [
    "rep = pd.DataFrame(rep_stats).T\n",
    "rep.columns = ['50%', '95%']\n",
    "rep = rep.loc[['Mg/Ca', 'Sr/Ca', 'Ba/Ca', 'Al/Ca', 'Mn/Ca'],:]"
   ]
  },
  {
   "cell_type": "code",
   "execution_count": 33,
   "metadata": {},
   "outputs": [],
   "source": [
    "rep.to_csv('reproducibility_quants.csv')"
   ]
  },
  {
   "cell_type": "code",
   "execution_count": 34,
   "metadata": {},
   "outputs": [
    {
     "data": {
      "image/png": "[encoded data removed]",
      "text/plain": [
       "<matplotlib.figure.Figure at 0x7f991f7bee10>"
      ]
     },
     "metadata": {},
     "output_type": "display_data"
    }
   ],
   "source": [
    "# in test data\n",
    "_ = stats.pairwise_reproducibility(rd, plot=True)"
   ]
  },
  {
   "cell_type": "code",
   "execution_count": 35,
   "metadata": {},
   "outputs": [
    {
     "data": {
      "image/png": "[encoded data removed]",
      "text/plain": [
       "<matplotlib.figure.Figure at 0x7f991e903b38>"
      ]
     },
     "metadata": {},
     "output_type": "display_data"
    }
   ],
   "source": [
    "# in latools data\n",
    "_ = stats.pairwise_reproducibility(ld, plot=True)"
   ]
  },
  {
   "cell_type": "markdown",
   "metadata": {},
   "source": [
    "## Compare Data"
   ]
  },
  {
   "cell_type": "code",
   "execution_count": 36,
   "metadata": {},
   "outputs": [
    {
     "data": {
      "image/png": "[encoded data removed]",
      "text/plain": [
       "<matplotlib.figure.Figure at 0x7f991e506be0>"
      ]
     },
     "metadata": {},
     "output_type": "display_data"
    }
   ],
   "source": [
    "fig, axs = plots.bland_altman_plots(df, rep_stats)\n",
    "\n",
    "fig.savefig('Figures/downcore_comparison.pdf')\n",
    "fig.savefig('Figures/downcore_comparison.png', dpi=200)"
   ]
  },
  {
   "cell_type": "code",
   "execution_count": 37,
   "metadata": {},
   "outputs": [],
   "source": [
    "# fig, axs = plots.comparison_plots(df)"
   ]
  },
  {
   "cell_type": "code",
   "execution_count": 38,
   "metadata": {},
   "outputs": [],
   "source": [
    "# fig, axs = plots.residual_plots(df, rep_stats)"
   ]
  },
  {
   "cell_type": "markdown",
   "metadata": {
    "collapsed": true
   },
   "source": [
    "## Comparison Statistics"
   ]
  },
  {
   "cell_type": "code",
   "execution_count": 39,
   "metadata": {},
   "outputs": [],
   "source": [
    "stat = stats.comparison_stats(df)"
   ]
  },
  {
   "cell_type": "code",
   "execution_count": 40,
   "metadata": {},
   "outputs": [],
   "source": [
    "stat.to_csv('Stats/downcore_stats.csv')"
   ]
  },
  {
   "cell_type": "code",
   "execution_count": 41,
   "metadata": {},
   "outputs": [
    {
     "data": {
      "text/html": [
       "<div>\n",
       "<style scoped>\n",
       "    .dataframe tbody tr th:only-of-type {\n",
       "        vertical-align: middle;\n",
       "    }\n",
       "\n",
       "    .dataframe tbody tr th {\n",
       "        vertical-align: top;\n",
       "    }\n",
       "\n",
       "    .dataframe thead tr th {\n",
       "        text-align: left;\n",
       "    }\n",
       "</style>\n",
       "<table border=\"1\" class=\"dataframe\">\n",
       "  <thead>\n",
       "    <tr>\n",
       "      <th></th>\n",
       "      <th colspan=\"5\" halign=\"left\">Residual Summary</th>\n",
       "      <th colspan=\"7\" halign=\"left\">Residual Regression</th>\n",
       "      <th colspan=\"2\" halign=\"left\">Kolmogorov-Smirnov</th>\n",
       "    </tr>\n",
       "    <tr>\n",
       "      <th></th>\n",
       "      <th>N</th>\n",
       "      <th>Median</th>\n",
       "      <th>LQ</th>\n",
       "      <th>IQR</th>\n",
       "      <th>UQ</th>\n",
       "      <th>Slope</th>\n",
       "      <th>Slope t</th>\n",
       "      <th>Slope p</th>\n",
       "      <th>Intercept</th>\n",
       "      <th>Intercept t</th>\n",
       "      <th>Intercept p</th>\n",
       "      <th>R2</th>\n",
       "      <th>KS</th>\n",
       "      <th>p</th>\n",
       "    </tr>\n",
       "  </thead>\n",
       "  <tbody>\n",
       "    <tr>\n",
       "      <th>Mg/Ca</th>\n",
       "      <td>149</td>\n",
       "      <td>0.278483</td>\n",
       "      <td>0.0947975</td>\n",
       "      <td>0.499073</td>\n",
       "      <td>0.593871</td>\n",
       "      <td>0.0273585</td>\n",
       "      <td>1.20041</td>\n",
       "      <td>0.231912</td>\n",
       "      <td>0.260619</td>\n",
       "      <td>1.87873</td>\n",
       "      <td>0.0622613</td>\n",
       "      <td>0.00970743</td>\n",
       "      <td>0.167785</td>\n",
       "      <td>0.0264765</td>\n",
       "    </tr>\n",
       "    <tr>\n",
       "      <th>Sr/Ca</th>\n",
       "      <td>149</td>\n",
       "      <td>-0.00562857</td>\n",
       "      <td>-0.0196323</td>\n",
       "      <td>0.0266532</td>\n",
       "      <td>0.00702097</td>\n",
       "      <td>-0.12196</td>\n",
       "      <td>-3.39093</td>\n",
       "      <td>0.00089479</td>\n",
       "      <td>0.164621</td>\n",
       "      <td>3.28086</td>\n",
       "      <td>0.00129257</td>\n",
       "      <td>0.072546</td>\n",
       "      <td>0.127517</td>\n",
       "      <td>0.164421</td>\n",
       "    </tr>\n",
       "    <tr>\n",
       "      <th>Ba/Ca</th>\n",
       "      <td>149</td>\n",
       "      <td>-0.072966</td>\n",
       "      <td>-0.106512</td>\n",
       "      <td>0.189704</td>\n",
       "      <td>0.0831927</td>\n",
       "      <td>0.375683</td>\n",
       "      <td>2.07146</td>\n",
       "      <td>0.0400641</td>\n",
       "      <td>-0.465135</td>\n",
       "      <td>-1.50099</td>\n",
       "      <td>0.135503</td>\n",
       "      <td>0.0283621</td>\n",
       "      <td>0.0939597</td>\n",
       "      <td>0.50647</td>\n",
       "    </tr>\n",
       "    <tr>\n",
       "      <th>Al/Ca</th>\n",
       "      <td>149</td>\n",
       "      <td>0.0336077</td>\n",
       "      <td>0.00764255</td>\n",
       "      <td>0.107416</td>\n",
       "      <td>0.115058</td>\n",
       "      <td>0.411013</td>\n",
       "      <td>4.54974</td>\n",
       "      <td>1.11622e-05</td>\n",
       "      <td>0.0554501</td>\n",
       "      <td>3.40844</td>\n",
       "      <td>0.000843259</td>\n",
       "      <td>0.123435</td>\n",
       "      <td>0.248322</td>\n",
       "      <td>0.000153847</td>\n",
       "    </tr>\n",
       "    <tr>\n",
       "      <th>Mn/Ca</th>\n",
       "      <td>149</td>\n",
       "      <td>0.0107187</td>\n",
       "      <td>-0.00044312</td>\n",
       "      <td>0.0384314</td>\n",
       "      <td>0.0379883</td>\n",
       "      <td>-0.0649723</td>\n",
       "      <td>-3.1429</td>\n",
       "      <td>0.00202379</td>\n",
       "      <td>0.0289588</td>\n",
       "      <td>5.34251</td>\n",
       "      <td>3.41845e-07</td>\n",
       "      <td>0.0629651</td>\n",
       "      <td>0.228188</td>\n",
       "      <td>0.000671689</td>\n",
       "    </tr>\n",
       "  </tbody>\n",
       "</table>\n",
       "</div>"
      ],
      "text/plain": [
       "      Residual Summary                                                 \\\n",
       "                     N      Median          LQ        IQR          UQ   \n",
       "Mg/Ca              149    0.278483   0.0947975   0.499073    0.593871   \n",
       "Sr/Ca              149 -0.00562857  -0.0196323  0.0266532  0.00702097   \n",
       "Ba/Ca              149   -0.072966   -0.106512   0.189704   0.0831927   \n",
       "Al/Ca              149   0.0336077  0.00764255   0.107416    0.115058   \n",
       "Mn/Ca              149   0.0107187 -0.00044312  0.0384314   0.0379883   \n",
       "\n",
       "      Residual Regression                                               \\\n",
       "                    Slope  Slope t      Slope p  Intercept Intercept t   \n",
       "Mg/Ca           0.0273585  1.20041     0.231912   0.260619     1.87873   \n",
       "Sr/Ca            -0.12196 -3.39093   0.00089479   0.164621     3.28086   \n",
       "Ba/Ca            0.375683  2.07146    0.0400641  -0.465135    -1.50099   \n",
       "Al/Ca            0.411013  4.54974  1.11622e-05  0.0554501     3.40844   \n",
       "Mn/Ca          -0.0649723  -3.1429   0.00202379  0.0289588     5.34251   \n",
       "\n",
       "                               Kolmogorov-Smirnov               \n",
       "       Intercept p          R2                 KS            p  \n",
       "Mg/Ca    0.0622613  0.00970743           0.167785    0.0264765  \n",
       "Sr/Ca   0.00129257    0.072546           0.127517     0.164421  \n",
       "Ba/Ca     0.135503   0.0283621          0.0939597      0.50647  \n",
       "Al/Ca  0.000843259    0.123435           0.248322  0.000153847  \n",
       "Mn/Ca  3.41845e-07   0.0629651           0.228188  0.000671689  "
      ]
     },
     "execution_count": 41,
     "metadata": {},
     "output_type": "execute_result"
    }
   ],
   "source": [
    "stat['Test User']"
   ]
  },
  {
   "cell_type": "code",
   "execution_count": 42,
   "metadata": {
    "scrolled": true
   },
   "outputs": [
    {
     "data": {
      "text/html": [
       "<div>\n",
       "<style scoped>\n",
       "    .dataframe tbody tr th:only-of-type {\n",
       "        vertical-align: middle;\n",
       "    }\n",
       "\n",
       "    .dataframe tbody tr th {\n",
       "        vertical-align: top;\n",
       "    }\n",
       "\n",
       "    .dataframe thead tr th {\n",
       "        text-align: left;\n",
       "    }\n",
       "</style>\n",
       "<table border=\"1\" class=\"dataframe\">\n",
       "  <thead>\n",
       "    <tr>\n",
       "      <th></th>\n",
       "      <th colspan=\"5\" halign=\"left\">Residual Summary</th>\n",
       "      <th colspan=\"7\" halign=\"left\">Residual Regression</th>\n",
       "      <th colspan=\"2\" halign=\"left\">Kolmogorov-Smirnov</th>\n",
       "    </tr>\n",
       "    <tr>\n",
       "      <th></th>\n",
       "      <th>N</th>\n",
       "      <th>Median</th>\n",
       "      <th>LQ</th>\n",
       "      <th>IQR</th>\n",
       "      <th>UQ</th>\n",
       "      <th>Slope</th>\n",
       "      <th>Slope t</th>\n",
       "      <th>Slope p</th>\n",
       "      <th>Intercept</th>\n",
       "      <th>Intercept t</th>\n",
       "      <th>Intercept p</th>\n",
       "      <th>R2</th>\n",
       "      <th>KS</th>\n",
       "      <th>p</th>\n",
       "    </tr>\n",
       "  </thead>\n",
       "  <tbody>\n",
       "    <tr>\n",
       "      <th>Mg/Ca</th>\n",
       "      <td>140</td>\n",
       "      <td>0.0351984</td>\n",
       "      <td>-0.269019</td>\n",
       "      <td>0.547434</td>\n",
       "      <td>0.278414</td>\n",
       "      <td>-0.0740551</td>\n",
       "      <td>-1.60986</td>\n",
       "      <td>0.109713</td>\n",
       "      <td>0.426056</td>\n",
       "      <td>1.54525</td>\n",
       "      <td>0.124577</td>\n",
       "      <td>0.018434</td>\n",
       "      <td>0.05</td>\n",
       "      <td>0.993629</td>\n",
       "    </tr>\n",
       "    <tr>\n",
       "      <th>Sr/Ca</th>\n",
       "      <td>140</td>\n",
       "      <td>-0.0123943</td>\n",
       "      <td>-0.0446158</td>\n",
       "      <td>0.0476549</td>\n",
       "      <td>0.00303906</td>\n",
       "      <td>-0.0730251</td>\n",
       "      <td>-1.07</td>\n",
       "      <td>0.286486</td>\n",
       "      <td>0.0747704</td>\n",
       "      <td>0.783876</td>\n",
       "      <td>0.434456</td>\n",
       "      <td>0.00822815</td>\n",
       "      <td>0.185714</td>\n",
       "      <td>0.0137004</td>\n",
       "    </tr>\n",
       "    <tr>\n",
       "      <th>Ba/Ca</th>\n",
       "      <td>122</td>\n",
       "      <td>-0.0479015</td>\n",
       "      <td>-0.260919</td>\n",
       "      <td>0.304336</td>\n",
       "      <td>0.043417</td>\n",
       "      <td>-0.24584</td>\n",
       "      <td>-5.2019</td>\n",
       "      <td>8.23564e-07</td>\n",
       "      <td>0.276395</td>\n",
       "      <td>3.53978</td>\n",
       "      <td>0.000570776</td>\n",
       "      <td>0.184005</td>\n",
       "      <td>0.139344</td>\n",
       "      <td>0.172324</td>\n",
       "    </tr>\n",
       "    <tr>\n",
       "      <th>Al/Ca</th>\n",
       "      <td>133</td>\n",
       "      <td>-0.00298329</td>\n",
       "      <td>-0.035042</td>\n",
       "      <td>0.0438025</td>\n",
       "      <td>0.00876049</td>\n",
       "      <td>-0.894363</td>\n",
       "      <td>-58.0211</td>\n",
       "      <td>2.60752e-95</td>\n",
       "      <td>0.0356573</td>\n",
       "      <td>13.9829</td>\n",
       "      <td>9.37095e-28</td>\n",
       "      <td>0.962544</td>\n",
       "      <td>0.233083</td>\n",
       "      <td>0.00114665</td>\n",
       "    </tr>\n",
       "    <tr>\n",
       "      <th>Mn/Ca</th>\n",
       "      <td>133</td>\n",
       "      <td>-0.0126693</td>\n",
       "      <td>-0.0329672</td>\n",
       "      <td>0.0297417</td>\n",
       "      <td>-0.00322552</td>\n",
       "      <td>-0.570222</td>\n",
       "      <td>-12.162</td>\n",
       "      <td>3.02278e-23</td>\n",
       "      <td>0.0282698</td>\n",
       "      <td>6.08107</td>\n",
       "      <td>1.22246e-08</td>\n",
       "      <td>0.53032</td>\n",
       "      <td>0.278195</td>\n",
       "      <td>4.82153e-05</td>\n",
       "    </tr>\n",
       "  </tbody>\n",
       "</table>\n",
       "</div>"
      ],
      "text/plain": [
       "      Residual Summary                                                \\\n",
       "                     N      Median         LQ        IQR          UQ   \n",
       "Mg/Ca              140   0.0351984  -0.269019   0.547434    0.278414   \n",
       "Sr/Ca              140  -0.0123943 -0.0446158  0.0476549  0.00303906   \n",
       "Ba/Ca              122  -0.0479015  -0.260919   0.304336    0.043417   \n",
       "Al/Ca              133 -0.00298329  -0.035042  0.0438025  0.00876049   \n",
       "Mn/Ca              133  -0.0126693 -0.0329672  0.0297417 -0.00322552   \n",
       "\n",
       "      Residual Regression                                               \\\n",
       "                    Slope  Slope t      Slope p  Intercept Intercept t   \n",
       "Mg/Ca          -0.0740551 -1.60986     0.109713   0.426056     1.54525   \n",
       "Sr/Ca          -0.0730251    -1.07     0.286486  0.0747704    0.783876   \n",
       "Ba/Ca            -0.24584  -5.2019  8.23564e-07   0.276395     3.53978   \n",
       "Al/Ca           -0.894363 -58.0211  2.60752e-95  0.0356573     13.9829   \n",
       "Mn/Ca           -0.570222  -12.162  3.02278e-23  0.0282698     6.08107   \n",
       "\n",
       "                               Kolmogorov-Smirnov               \n",
       "       Intercept p          R2                 KS            p  \n",
       "Mg/Ca     0.124577    0.018434               0.05     0.993629  \n",
       "Sr/Ca     0.434456  0.00822815           0.185714    0.0137004  \n",
       "Ba/Ca  0.000570776    0.184005           0.139344     0.172324  \n",
       "Al/Ca  9.37095e-28    0.962544           0.233083   0.00114665  \n",
       "Mn/Ca  1.22246e-08     0.53032           0.278195  4.82153e-05  "
      ]
     },
     "execution_count": 42,
     "metadata": {},
     "output_type": "execute_result"
    }
   ],
   "source": [
    "stat['LAtools']"
   ]
  },
  {
   "cell_type": "code",
   "execution_count": null,
   "metadata": {},
   "outputs": [],
   "source": []
  }
 ],
 "metadata": {
  "kernelspec": {
   "display_name": "Python 3",
   "language": "python",
   "name": "python3"
  },
  "language_info": {
   "codemirror_mode": {
    "name": "ipython",
    "version": 3
   },
   "file_extension": ".py",
   "mimetype": "text/x-python",
   "name": "python",
   "nbconvert_exporter": "python",
   "pygments_lexer": "ipython3",
   "version": "3.6.3"
  }
 },
 "nbformat": 4,
 "nbformat_minor": 2
}
