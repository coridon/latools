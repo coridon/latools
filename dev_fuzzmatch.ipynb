{
 "cells": [
  {
   "cell_type": "code",
   "execution_count": 10,
   "metadata": {},
   "outputs": [],
   "source": [
    "from fuzzywuzzy import fuzz\n",
    "from difflib import SequenceMatcher as seqm"
   ]
  },
  {
   "cell_type": "code",
   "execution_count": null,
   "metadata": {},
   "outputs": [],
   "source": [
    "def fuzzmatch(self, fuzzkey, multi=False):\n",
    "    \"\"\"\n",
    "    Identify a filter by fuzzy string matching.\n",
    "\n",
    "    Partial ('fuzzy') matching performed by `fuzzywuzzy.fuzzy.ratio`\n",
    "\n",
    "    Parameters\n",
    "    ----------\n",
    "    fuzzkey : str\n",
    "        A string that partially matches one filter name more than the others.\n",
    "\n",
    "    Returns\n",
    "    -------\n",
    "    The name of the most closely matched filter. : str\n",
    "    \"\"\"\n",
    "\n",
    "    keys, ratios = np.array([(f, fuzz.ratio(fuzzkey, f)) for f in self.components.keys()]).T\n",
    "    ratios = ratios.astype(float)\n",
    "    mratio = ratios.max()\n",
    "\n",
    "    if multi:\n",
    "        return keys[ratios == mratio]\n",
    "    else:\n",
    "        if sum(ratios == mratio) == 1:\n",
    "            return keys[ratios == mratio][0]\n",
    "        else:\n",
    "            raise ValueError(\"\\nThe filter key provided ('{:}') matches two or more filter names equally well:\\n\".format(fuzzkey) + ', '.join(keys[ratios == mratio]) + \"\\nPlease be more specific!\")"
   ]
  },
  {
   "cell_type": "code",
   "execution_count": 3,
   "metadata": {},
   "outputs": [],
   "source": [
    "els = ['Al27', 'Mg24', 'Mn55', 'B11']\n",
    "\n",
    "strs = []\n",
    "\n",
    "for e in els:\n",
    "    for lev in ['above', 'below']:\n",
    "        strs.append('_'.join([e,'thresh',lev]))"
   ]
  },
  {
   "cell_type": "code",
   "execution_count": 6,
   "metadata": {},
   "outputs": [],
   "source": [
    "def fuzzrat(key, f):\n",
    "    return fuzz.ratio(key, f)\n",
    "\n",
    "def diffrat(key, f):\n",
    "    return seqm(None, key, f).ratio()"
   ]
  },
  {
   "cell_type": "code",
   "execution_count": 16,
   "metadata": {},
   "outputs": [
    {
     "name": "stdout",
     "output_type": "stream",
     "text": [
      "Al27_thresh_above 47 47\n",
      "Al27_thresh_below 65 65\n",
      "Mg24_thresh_above 47 47\n",
      "Mg24_thresh_below 65 65\n",
      "Mn55_thresh_above 47 47\n",
      "Mn55_thresh_below 65 65\n",
      "B11_thresh_above 48 48\n",
      "B11_thresh_below 67 67\n"
     ]
    }
   ],
   "source": [
    "key = 'thresh below Al27'\n",
    "\n",
    "for f in strs:\n",
    "    print(f, fuzzrat(key, f), round(diffrat(key, f) * 100))"
   ]
  }
 ],
 "metadata": {
  "kernelspec": {
   "display_name": "Python 3",
   "language": "python",
   "name": "python3"
  },
  "language_info": {
   "codemirror_mode": {
    "name": "ipython",
    "version": 3
   },
   "file_extension": ".py",
   "mimetype": "text/x-python",
   "name": "python",
   "nbconvert_exporter": "python",
   "pygments_lexer": "ipython3",
   "version": "3.6.4"
  }
 },
 "nbformat": 4,
 "nbformat_minor": 2
}
